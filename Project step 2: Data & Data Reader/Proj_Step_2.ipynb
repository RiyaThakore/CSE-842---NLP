{
  "nbformat": 4,
  "nbformat_minor": 0,
  "metadata": {
    "colab": {
      "name": "Proj Step 2.ipynb",
      "provenance": []
    },
    "kernelspec": {
      "name": "python3",
      "display_name": "Python 3"
    },
    "language_info": {
      "name": "python"
    }
  },
  "cells": [
    {
      "cell_type": "markdown",
      "metadata": {
        "id": "4INNcmAnoJoO"
      },
      "source": [
        "Read and describe ADMISSIONS file"
      ]
    },
    {
      "cell_type": "code",
      "metadata": {
        "colab": {
          "base_uri": "https://localhost:8080/"
        },
        "id": "ITIT3WF-Ixeq",
        "outputId": "f5e6f905-7e5a-41ef-8f9d-5f7ede821c45"
      },
      "source": [
        "import pandas as pd\n",
        "import numpy as np\n",
        "import matplotlib.pyplot as plt\n",
        "adm = pd.read_csv('/content/sample_data/ADMISSIONS.csv')\n",
        "adm.columns"
      ],
      "execution_count": null,
      "outputs": [
        {
          "output_type": "execute_result",
          "data": {
            "text/plain": [
              "Index(['ROW_ID', 'SUBJECT_ID', 'HADM_ID', 'ADMITTIME', 'DISCHTIME',\n",
              "       'DEATHTIME', 'ADMISSION_TYPE', 'ADMISSION_LOCATION',\n",
              "       'DISCHARGE_LOCATION', 'INSURANCE', 'LANGUAGE', 'RELIGION',\n",
              "       'MARITAL_STATUS', 'ETHNICITY', 'EDREGTIME', 'EDOUTTIME', 'DIAGNOSIS',\n",
              "       'HOSPITAL_EXPIRE_FLAG', 'HAS_CHARTEVENTS_DATA'],\n",
              "      dtype='object')"
            ]
          },
          "metadata": {},
          "execution_count": 1
        }
      ]
    },
    {
      "cell_type": "code",
      "metadata": {
        "colab": {
          "base_uri": "https://localhost:8080/"
        },
        "id": "Qld33vBlK-FP",
        "outputId": "2ac9fbe8-1d45-44f8-bc0c-884f983cdcf7"
      },
      "source": [
        "adm.groupby(['ADMISSION_TYPE']).size()"
      ],
      "execution_count": null,
      "outputs": [
        {
          "output_type": "execute_result",
          "data": {
            "text/plain": [
              "ADMISSION_TYPE\n",
              "ELECTIVE      7706\n",
              "EMERGENCY    42071\n",
              "NEWBORN       7863\n",
              "URGENT        1336\n",
              "dtype: int64"
            ]
          },
          "metadata": {},
          "execution_count": 2
        }
      ]
    },
    {
      "cell_type": "code",
      "metadata": {
        "id": "eY_ZGKwfLCoH"
      },
      "source": [
        "#convert dates to safer format for future calculations\n",
        "adm.ADMITTIME = pd.to_datetime(adm.ADMITTIME, format = '%Y-%m-%d %H:%M:%S', errors = 'coerce')\n",
        "adm.DISCHTIME = pd.to_datetime(adm.DISCHTIME, format = '%Y-%m-%d %H:%M:%S', errors = 'coerce')\n",
        "adm.DEATHTIME = pd.to_datetime(adm.DEATHTIME, format = '%Y-%m-%d %H:%M:%S', errors = 'coerce')"
      ],
      "execution_count": null,
      "outputs": []
    },
    {
      "cell_type": "code",
      "metadata": {
        "id": "3A05dQkNLaQJ"
      },
      "source": [
        "adm = adm.sort_values(['SUBJECT_ID','ADMITTIME'])\n",
        "adm = adm.reset_index(drop = True)\n",
        "#use shift to create a column with  next admit time and type (elective, emergency)\n",
        "adm['NEXT_ADMTIME'] = adm.groupby('SUBJECT_ID').ADMITTIME.shift(-1)\n",
        "adm['NEXT_ADMTYPE'] = adm.groupby('SUBJECT_ID').ADMISSION_TYPE.shift(-1)\n",
        "rows = adm.NEXT_ADMTYPE == 'ELECTIVE'\n",
        "adm.loc[rows,'NEXT_ADMTIME'] = pd.NaT\n",
        "adm.loc[rows,'NEXT_ADMTYPE'] = np.NaN\n",
        "adm = adm.sort_values(['SUBJECT_ID','ADMITTIME'])\n",
        "adm[['NEXT_ADMTIME','NEXT_ADMTYPE']] = adm.groupby(['SUBJECT_ID'])[['NEXT_ADMTIME','NEXT_ADMTYPE']].fillna(method = 'bfill')"
      ],
      "execution_count": null,
      "outputs": []
    },
    {
      "cell_type": "code",
      "metadata": {
        "id": "CpDQPuViMbDp"
      },
      "source": [
        "#calculate admission days\n",
        "adm['NEXT_ADMDAYS']=  (adm.NEXT_ADMTIME - adm.DISCHTIME).dt.total_seconds()/(24*60*60)"
      ],
      "execution_count": null,
      "outputs": []
    },
    {
      "cell_type": "markdown",
      "metadata": {
        "id": "OKADYYqeoj3h"
      },
      "source": [
        "Read and describe NOTES file"
      ]
    },
    {
      "cell_type": "code",
      "metadata": {
        "colab": {
          "base_uri": "https://localhost:8080/"
        },
        "id": "0E1cDWbaM2pt",
        "outputId": "0747c63a-9c07-49a1-bf84-3dd5a7cb1263"
      },
      "source": [
        "notes = pd.read_csv(\"/content/sample_data/NOTES.csv\")\n",
        "notes.columns"
      ],
      "execution_count": null,
      "outputs": [
        {
          "output_type": "execute_result",
          "data": {
            "text/plain": [
              "Index(['ROW_ID', 'SUBJECT_ID', 'HADM_ID', 'CHARTDATE', 'CHARTTIME',\n",
              "       'STORETIME', 'CATEGORY', 'DESCRIPTION', 'CGID', 'ISERROR', 'TEXT'],\n",
              "      dtype='object')"
            ]
          },
          "metadata": {},
          "execution_count": 7
        }
      ]
    },
    {
      "cell_type": "code",
      "metadata": {
        "id": "jX4k8_czNCe3"
      },
      "source": [
        "summ = notes.loc[notes.CATEGORY == 'Discharge summary']"
      ],
      "execution_count": null,
      "outputs": []
    },
    {
      "cell_type": "code",
      "metadata": {
        "id": "3id076swNMYY"
      },
      "source": [
        "dissumm = (summ.groupby(['SUBJECT_ID','HADM_ID']).nth(-1)).reset_index()"
      ],
      "execution_count": null,
      "outputs": []
    },
    {
      "cell_type": "markdown",
      "metadata": {
        "id": "F_Q_3I6loqUK"
      },
      "source": [
        "Merge the files with conditions"
      ]
    },
    {
      "cell_type": "code",
      "metadata": {
        "id": "n8KqmDtmNXRL"
      },
      "source": [
        "adm_notes = pd.merge(adm[['SUBJECT_ID','HADM_ID','ADMITTIME','DISCHTIME','NEXT_ADMDAYS','NEXT_ADMTIME','ADMISSION_TYPE','DEATHTIME']],\n",
        "                        dissumm[['SUBJECT_ID','HADM_ID','TEXT']], \n",
        "                        on = ['SUBJECT_ID','HADM_ID'],\n",
        "                        how = 'left')"
      ],
      "execution_count": null,
      "outputs": []
    },
    {
      "cell_type": "code",
      "metadata": {
        "id": "P1iZ9wbnOzM5"
      },
      "source": [
        "adm_notes.groupby('ADMISSION_TYPE').apply(lambda g: g.TEXT.isnull().sum())/adm_notes.groupby('ADMISSION_TYPE').size()\n",
        "finaladm_notes = adm_notes.loc[adm_notes.ADMISSION_TYPE != 'NEWBORN'].copy()"
      ],
      "execution_count": null,
      "outputs": []
    },
    {
      "cell_type": "code",
      "metadata": {
        "id": "AdV6gAIFOzQ2"
      },
      "source": [
        "finaladm_notes['LABEL'] = (finaladm_notes.NEXT_ADMDAYS < 30).astype('int')"
      ],
      "execution_count": null,
      "outputs": []
    },
    {
      "cell_type": "code",
      "metadata": {
        "id": "TIbDEqfoONF-"
      },
      "source": [
        "finaladm_notes = finaladm_notes.sample(n = len(finaladm_notes), random_state = 42)\n",
        "finaladm_notes = finaladm_notes.reset_index(drop = True)\n",
        "\n",
        "# Save 30% of the data as validation and test data \n",
        "data=finaladm_notes.sample(frac=0.30,random_state=42)\n",
        "finaldata=finaladm_notes.drop(data.index)"
      ],
      "execution_count": null,
      "outputs": []
    },
    {
      "cell_type": "code",
      "metadata": {
        "id": "Qau4HSUxP1Ug"
      },
      "source": [
        "rows_pos = finaldata.LABEL == 1\n",
        "data_pos = finaldata.loc[rows_pos]\n",
        "data_neg = finaldata.loc[~rows_pos]\n",
        "\n",
        "# merge the balanced data\n",
        "train = pd.concat([data_pos, data_neg.sample(n = len(data_pos), random_state = 42)],axis = 0)\n",
        "\n",
        "# shuffle the order of training samples \n",
        "train = train.sample(n = len(train), random_state = 42).reset_index(drop = True)\n"
      ],
      "execution_count": null,
      "outputs": []
    },
    {
      "cell_type": "code",
      "metadata": {
        "id": "b6F2ArglQUT7"
      },
      "source": [
        "train.to_csv('/content/sample_data/TRAIN.csv')"
      ],
      "execution_count": null,
      "outputs": []
    }
  ]
}