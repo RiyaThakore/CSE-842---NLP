{
  "nbformat": 4,
  "nbformat_minor": 0,
  "metadata": {
    "colab": {
      "name": "Step4.ipynb",
      "provenance": [],
      "collapsed_sections": []
    },
    "kernelspec": {
      "name": "python3",
      "display_name": "Python 3"
    },
    "language_info": {
      "name": "python"
    }
  },
  "cells": [
    {
      "cell_type": "code",
      "metadata": {
        "id": "YW-Y7hXrOPwS"
      },
      "source": [
        "from google.colab import drive\n",
        "drive.mount('/content/drive')"
      ],
      "execution_count": null,
      "outputs": []
    },
    {
      "cell_type": "code",
      "metadata": {
        "id": "CQvt0gLZQMis"
      },
      "source": [
        "import pandas as pd\n",
        "import numpy as np\n",
        "import matplotlib.pyplot as plt\n",
        "import nltk\n",
        "from nltk import word_tokenize\n",
        "import string\n",
        "from sklearn.feature_extraction.text import CountVectorizer\n",
        "from sklearn.linear_model import LogisticRegression"
      ],
      "execution_count": 24,
      "outputs": []
    },
    {
      "cell_type": "markdown",
      "metadata": {
        "id": "kJAqJz1gQ_Io"
      },
      "source": [
        "**Load Admission**"
      ]
    },
    {
      "cell_type": "code",
      "metadata": {
        "id": "OE3ZRvhIQ-NF"
      },
      "source": [
        "adm = pd.read_csv('/content/sample_data/ADMISSIONS.csv')\n",
        "\n",
        "adm = adm.sort_values(['SUBJECT_ID','ADMITTIME'])\n",
        "adm = adm.reset_index(drop = True)\n",
        "adm['NEXT_ADMITTIME'] = adm.groupby('SUBJECT_ID').ADMITTIME.shift(-1)\n",
        "\n",
        "adm['NEXT_ADMISSION_TYPE'] = adm.groupby('SUBJECT_ID').ADMISSION_TYPE.shift(-1)\n",
        "rows = adm.NEXT_ADMISSION_TYPE == 'ELECTIVE' #elective are unplanned admissions\n",
        "adm.loc[rows,'NEXT_ADMITTIME'] = pd.NaT\n",
        "adm.loc[rows,'NEXT_ADMISSION_TYPE'] = np.NaN\n",
        "adm = adm.sort_values(['SUBJECT_ID','ADMITTIME'])\n",
        "\n",
        "adm[['NEXT_ADMITTIME','NEXT_ADMISSION_TYPE']] = adm.groupby(['SUBJECT_ID'])[['NEXT_ADMITTIME','NEXT_ADMISSION_TYPE']].fillna(method = 'bfill')\n",
        "adm['DAYS_NEXT_ADMIT']=  (adm.NEXT_ADMITTIME - adm.DISCHTIME).dt.total_seconds()/(24*60*60)"
      ],
      "execution_count": 25,
      "outputs": []
    },
    {
      "cell_type": "markdown",
      "metadata": {
        "id": "0juKg9GnQyM9"
      },
      "source": [
        "**Load Notes**"
      ]
    },
    {
      "cell_type": "code",
      "metadata": {
        "id": "4Q-KkIXLPUtL"
      },
      "source": [
        "notes = pd.read_csv(\"/content/drive/MyDrive/NOTEEVENTS.csv\")"
      ],
      "execution_count": null,
      "outputs": []
    },
    {
      "cell_type": "code",
      "metadata": {
        "id": "b49801-zQHV3"
      },
      "source": [
        "notes_dis_sum = notes.loc[df_notes.CATEGORY == 'Discharge summary']\n",
        "notes_dis_sum_last = (notes_dis_sum.groupby(['SUBJECT_ID','HADM_ID']).nth(-1)).reset_index()"
      ],
      "execution_count": 27,
      "outputs": []
    },
    {
      "cell_type": "markdown",
      "metadata": {
        "id": "N7Cm31kRTG8M"
      },
      "source": [
        "**Merge**"
      ]
    },
    {
      "cell_type": "code",
      "metadata": {
        "id": "MI0yso_XQi1R"
      },
      "source": [
        "adm_notes = pd.merge(adm[['SUBJECT_ID','HADM_ID','ADMITTIME','DISCHTIME','DAYS_NEXT_ADMIT','NEXT_ADMITTIME','ADMISSION_TYPE','DEATHTIME']],\n",
        "                        notes_dis_sum_last[['SUBJECT_ID','HADM_ID','TEXT']], \n",
        "                        on = ['SUBJECT_ID','HADM_ID'],\n",
        "                        how = 'left')"
      ],
      "execution_count": 28,
      "outputs": []
    },
    {
      "cell_type": "code",
      "metadata": {
        "colab": {
          "base_uri": "https://localhost:8080/"
        },
        "id": "MlhtGlQfTIjD",
        "outputId": "8d538713-633c-493d-931a-318b56c9fd9d"
      },
      "source": [
        "adm_notes.groupby('ADMISSION_TYPE').apply(lambda g: g.TEXT.isnull().sum())/adm_notes.groupby('ADMISSION_TYPE').size()"
      ],
      "execution_count": 29,
      "outputs": [
        {
          "output_type": "execute_result",
          "data": {
            "text/plain": [
              "ADMISSION_TYPE\n",
              "ELECTIVE     0.048663\n",
              "EMERGENCY    0.037983\n",
              "NEWBORN      0.536691\n",
              "URGENT       0.042665\n",
              "dtype: float64"
            ]
          },
          "metadata": {},
          "execution_count": 29
        }
      ]
    },
    {
      "cell_type": "code",
      "metadata": {
        "id": "fUXTsE8dTLXi"
      },
      "source": [
        "clean = adm_notes.loc[adm_notes.ADMISSION_TYPE != 'NEWBORN'].copy()"
      ],
      "execution_count": 30,
      "outputs": []
    },
    {
      "cell_type": "code",
      "metadata": {
        "id": "bRc1zsvwTOZm"
      },
      "source": [
        "clean['OUTPUT_LABEL'] = (clean.DAYS_NEXT_ADMIT < 30).astype('int')"
      ],
      "execution_count": 31,
      "outputs": []
    },
    {
      "cell_type": "markdown",
      "metadata": {
        "id": "Niqbei9Esiug"
      },
      "source": [
        "**Make a test/train split of the data**"
      ]
    },
    {
      "cell_type": "code",
      "metadata": {
        "id": "UzjfDDj8TQru"
      },
      "source": [
        "clean = clean.sample(n = len(clean), random_state = 42)\n",
        "clean = clean.reset_index(drop = True)\n",
        "test=clean.sample(frac=0.30,random_state=42)\n",
        "test = test.sample(frac = 0.5, random_state = 42)\n",
        "valid = test.drop(test.index)\n",
        "train_all=clean.drop(test.index)"
      ],
      "execution_count": 32,
      "outputs": []
    },
    {
      "cell_type": "code",
      "metadata": {
        "id": "YUFJOARbTT3C"
      },
      "source": [
        "rows_pos = train_all.OUTPUT_LABEL == 1\n",
        "pos = train_all.loc[rows_pos]\n",
        "neg = train_all.loc[~rows_pos]\n",
        "train = pd.concat([pos,neg.sample(n = len(pos), random_state = 42)],axis = 0)\n",
        "train = train.sample(n = len(train), random_state = 42).reset_index(drop = True)"
      ],
      "execution_count": 33,
      "outputs": []
    },
    {
      "cell_type": "code",
      "metadata": {
        "id": "856_rAsgTXFs"
      },
      "source": [
        "df_train.TEXT = df_train.TEXT.fillna(' ')\n",
        "df_valid.TEXT = df_valid.TEXT.fillna(' ')\n",
        "df_train.TEXT = df_train.TEXT.str.replace('\\n',' ')\n",
        "df_valid.TEXT = df_valid.TEXT.str.replace('\\n',' ')\n",
        "df_train.TEXT = df_train.TEXT.str.replace('\\r',' ')\n",
        "df_valid.TEXT = df_valid.TEXT.str.replace('\\r',' ')\n",
        "\n",
        "def tokenize(text):\n",
        "    punc_list = string.punctuation+'0123456789'\n",
        "    t = str.maketrans(dict.fromkeys(punc_list, \" \"))\n",
        "    text = text.lower().translate(t)\n",
        "    tokens = word_tokenize(text)\n",
        "    return tokens\n",
        "\n",
        "vect = CountVectorizer(tokenizer = tokenize)\n",
        "vect.fit(sample_text)\n",
        "X = vect.transform(sample_text)\n",
        "X.toarray()\n",
        "vect.get_feature_names()\n",
        "vect = CountVectorizer(max_features = 3000, tokenizer = tokenize)\n",
        "vect.fit(df_train.TEXT.values)"
      ],
      "execution_count": null,
      "outputs": []
    },
    {
      "cell_type": "markdown",
      "metadata": {
        "id": "WaRnCy7lspKg"
      },
      "source": [
        "**Use your machine learning algorithm to learn from your training set**"
      ]
    },
    {
      "cell_type": "code",
      "metadata": {
        "id": "94M6KoSFTvYD"
      },
      "source": [
        "my_stop_words = ['the','and','to','of','was','with','a','on','in','for','name',\n",
        "                 'is','patient','s','he','at','as','or','one','she','his','her','am',\n",
        "                 'were','you','pt','pm','by','be','had','your','this','date',\n",
        "                'from','there','an','that','p','are','have','has','h','but','o',\n",
        "                'namepattern','which','every','also']\n",
        "\n",
        "vect = CountVectorizer(max_features = 3000, \n",
        "                       tokenizer = tokenize, \n",
        "                       stop_words = my_stop_words)\n",
        "\n",
        "vect.fit(df_train.TEXT.values)\n",
        "X_train = vect.transform(df_train.TEXT.values)\n",
        "X_valid = vect.transform(df_valid.TEXT.values)\n",
        "y_train = df_train.OUTPUT_LABEL\n",
        "y_valid = df_valid.OUTPUT_LABEL\n",
        "\n",
        "clf=LogisticRegression(C = 0.0001, penalty = 'l2', random_state = 42)\n",
        "clf.fit(X_train, y_train)\n",
        "model = clf\n",
        "train_preds = model.predict_proba(X_train)[:,1]\n",
        "valid_preds = model.predict_proba(X_valid)[:,1]"
      ],
      "execution_count": null,
      "outputs": []
    },
    {
      "cell_type": "code",
      "metadata": {
        "colab": {
          "base_uri": "https://localhost:8080/"
        },
        "id": "Jpv48Xhov_az",
        "outputId": "293018e4-68c7-4e35-f7b9-1bc7c70de285"
      },
      "source": [
        "print(y_train[15:23].values)\n",
        "print(train_preds[15:23])"
      ],
      "execution_count": 36,
      "outputs": [
        {
          "output_type": "stream",
          "name": "stdout",
          "text": [
            "[1 1 1 1 1 1 1 1]\n",
            "[0.60876019 0.7018346  0.82441754 0.55267982 0.4572866  0.66855654\n",
            " 0.43075838 0.9404186 ]\n"
          ]
        }
      ]
    },
    {
      "cell_type": "markdown",
      "metadata": {
        "id": "L9nKubylsxR7"
      },
      "source": [
        "**Evaluate the model with the test set**"
      ]
    },
    {
      "cell_type": "code",
      "metadata": {
        "id": "vNKohEUVrWbk"
      },
      "source": [
        "df_test.TEXT = df_test.TEXT.fillna(' ')\n",
        "df_test.TEXT = df_test.TEXT.str.replace('\\n',' ')\n",
        "df_test.TEXT = df_test.TEXT.str.replace('\\r',' ')\n",
        "X_test = vect.transform(df_test.TEXT.values)\n",
        "y_test = df_test.OUTPUT_LABEL\n",
        "test_preds = model.predict_proba(X_test)[:,1]"
      ],
      "execution_count": 37,
      "outputs": []
    },
    {
      "cell_type": "code",
      "metadata": {
        "colab": {
          "base_uri": "https://localhost:8080/"
        },
        "id": "oxIOsRKmwnWA",
        "outputId": "30047996-cd70-40ab-b729-4a9184dde501"
      },
      "source": [
        "print(y_test[15:23].values)\n",
        "print(test_preds[15:23])"
      ],
      "execution_count": 39,
      "outputs": [
        {
          "output_type": "stream",
          "name": "stdout",
          "text": [
            "[0 0 0 0 0 0 0 0]\n",
            "[0.50079379 0.42833089 0.71550406 0.40346128 0.38753352 0.55039571\n",
            " 0.50421008 0.57326816]\n"
          ]
        }
      ]
    },
    {
      "cell_type": "code",
      "metadata": {
        "colab": {
          "base_uri": "https://localhost:8080/",
          "height": 347
        },
        "id": "L4E-V-zew2_C",
        "outputId": "03c1cefd-d455-4c33-94c2-85915b1f8284"
      },
      "source": [
        "from sklearn.metrics import roc_curve\n",
        "from sklearn.metrics import roc_auc_score\n",
        "\n",
        "fpr_train, tpr_train, thresholds_train = roc_curve(y_train, train_preds)\n",
        "fpr_valid, tpr_valid, thresholds_valid = roc_curve(y_valid, valid_preds)\n",
        "\n",
        "thresh = 0.5\n",
        "\n",
        "auc_train = roc_auc_score(y_train, y_train_preds)\n",
        "auc_valid = roc_auc_score(y_valid, y_valid_preds)\n",
        "\n",
        "print('Train Area Under Curve:%.3f'%auc_train)\n",
        "print('Valid Area Under Curve:%.3f'%auc_valid)\n",
        "\n",
        "print('Train accuracy:%.3f'%calc_accuracy(y_train, train_preds, thresh))\n",
        "print('Valid accuracy:%.3f'%calc_accuracy(y_valid, valid_preds, thresh))\n"
      ],
      "execution_count": 45,
      "outputs": [
        {
          "output_type": "stream",
          "name": "stdout",
          "text": [
            "Train Area Under Curve:0.754\n",
            "Valid Area Under Curve:0.706\n",
            "Train accuracy:0.685\n",
            "Valid accuracy:0.714\n"
          ]
        },
        {
          "output_type": "display_data",
          "data": {
            "image/png": "[encoded data removed]",
            "text/plain": [
              "<Figure size 432x288 with 1 Axes>"
            ]
          },
          "metadata": {
            "needs_background": "light"
          }
        }
      ]
    },
    {
      "cell_type": "code",
      "metadata": {
        "id": "dMnG9kLzxSo_"
      },
      "source": [
        ""
      ],
      "execution_count": null,
      "outputs": []
    }
  ]
}