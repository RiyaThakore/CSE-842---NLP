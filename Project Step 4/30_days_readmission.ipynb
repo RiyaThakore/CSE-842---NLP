{
  "nbformat": 4,
  "nbformat_minor": 0,
  "metadata": {
    "colab": {
      "name": "30 days readmission.ipynb",
      "provenance": []
    },
    "kernelspec": {
      "name": "python3",
      "display_name": "Python 3"
    },
    "language_info": {
      "name": "python"
    },
    "accelerator": "TPU"
  },
  "cells": [
    {
      "cell_type": "code",
      "metadata": {
        "id": "kP0cUvQhVblv"
      },
      "source": [
        "!git clone https://github.com/kexinhuang12345/clinicalBERT.git"
      ],
      "execution_count": null,
      "outputs": []
    },
    {
      "cell_type": "code",
      "metadata": {
        "id": "Keajb861VwDF",
        "colab": {
          "base_uri": "https://localhost:8080/"
        },
        "outputId": "66541efb-9457-413b-f78f-1720ba267090"
      },
      "source": [
        "!pip install pytorch-pretrained-bert"
      ],
      "execution_count": 2,
      "outputs": [
        {
          "output_type": "stream",
          "name": "stdout",
          "text": [
            "Collecting pytorch-pretrained-bert\n",
            "  Downloading pytorch_pretrained_bert-0.6.2-py3-none-any.whl (123 kB)\n",
            "\u001b[?25l\r\u001b[K     |██▋                             | 10 kB 19.5 MB/s eta 0:00:01\r\u001b[K     |█████▎                          | 20 kB 24.2 MB/s eta 0:00:01\r\u001b[K     |████████                        | 30 kB 16.8 MB/s eta 0:00:01\r\u001b[K     |██████████▋                     | 40 kB 12.1 MB/s eta 0:00:01\r\u001b[K     |█████████████▎                  | 51 kB 5.8 MB/s eta 0:00:01\r\u001b[K     |███████████████▉                | 61 kB 6.1 MB/s eta 0:00:01\r\u001b[K     |██████████████████▌             | 71 kB 5.4 MB/s eta 0:00:01\r\u001b[K     |█████████████████████▏          | 81 kB 5.9 MB/s eta 0:00:01\r\u001b[K     |███████████████████████▉        | 92 kB 6.3 MB/s eta 0:00:01\r\u001b[K     |██████████████████████████▌     | 102 kB 5.4 MB/s eta 0:00:01\r\u001b[K     |█████████████████████████████▏  | 112 kB 5.4 MB/s eta 0:00:01\r\u001b[K     |███████████████████████████████▊| 122 kB 5.4 MB/s eta 0:00:01\r\u001b[K     |████████████████████████████████| 123 kB 5.4 MB/s \n",
            "\u001b[?25hRequirement already satisfied: torch>=0.4.1 in /usr/local/lib/python3.7/dist-packages (from pytorch-pretrained-bert) (1.9.0+cu111)\n",
            "Requirement already satisfied: tqdm in /usr/local/lib/python3.7/dist-packages (from pytorch-pretrained-bert) (4.62.3)\n",
            "Collecting boto3\n",
            "  Downloading boto3-1.19.12-py3-none-any.whl (131 kB)\n",
            "\u001b[K     |████████████████████████████████| 131 kB 28.9 MB/s \n",
            "\u001b[?25hRequirement already satisfied: regex in /usr/local/lib/python3.7/dist-packages (from pytorch-pretrained-bert) (2019.12.20)\n",
            "Requirement already satisfied: requests in /usr/local/lib/python3.7/dist-packages (from pytorch-pretrained-bert) (2.23.0)\n",
            "Requirement already satisfied: numpy in /usr/local/lib/python3.7/dist-packages (from pytorch-pretrained-bert) (1.19.5)\n",
            "Requirement already satisfied: typing-extensions in /usr/local/lib/python3.7/dist-packages (from torch>=0.4.1->pytorch-pretrained-bert) (3.7.4.3)\n",
            "Collecting jmespath<1.0.0,>=0.7.1\n",
            "  Downloading jmespath-0.10.0-py2.py3-none-any.whl (24 kB)\n",
            "Collecting botocore<1.23.0,>=1.22.12\n",
            "  Downloading botocore-1.22.12-py3-none-any.whl (8.1 MB)\n",
            "\u001b[K     |████████████████████████████████| 8.1 MB 38.4 MB/s \n",
            "\u001b[?25hCollecting s3transfer<0.6.0,>=0.5.0\n",
            "  Downloading s3transfer-0.5.0-py3-none-any.whl (79 kB)\n",
            "\u001b[K     |████████████████████████████████| 79 kB 6.6 MB/s \n",
            "\u001b[?25hRequirement already satisfied: python-dateutil<3.0.0,>=2.1 in /usr/local/lib/python3.7/dist-packages (from botocore<1.23.0,>=1.22.12->boto3->pytorch-pretrained-bert) (2.8.2)\n",
            "Collecting urllib3<1.27,>=1.25.4\n",
            "  Downloading urllib3-1.26.7-py2.py3-none-any.whl (138 kB)\n",
            "\u001b[K     |████████████████████████████████| 138 kB 58.1 MB/s \n",
            "\u001b[?25hRequirement already satisfied: six>=1.5 in /usr/local/lib/python3.7/dist-packages (from python-dateutil<3.0.0,>=2.1->botocore<1.23.0,>=1.22.12->boto3->pytorch-pretrained-bert) (1.15.0)\n",
            "Requirement already satisfied: idna<3,>=2.5 in /usr/local/lib/python3.7/dist-packages (from requests->pytorch-pretrained-bert) (2.10)\n",
            "Requirement already satisfied: chardet<4,>=3.0.2 in /usr/local/lib/python3.7/dist-packages (from requests->pytorch-pretrained-bert) (3.0.4)\n",
            "  Downloading urllib3-1.25.11-py2.py3-none-any.whl (127 kB)\n",
            "\u001b[K     |████████████████████████████████| 127 kB 59.2 MB/s \n",
            "\u001b[?25hRequirement already satisfied: certifi>=2017.4.17 in /usr/local/lib/python3.7/dist-packages (from requests->pytorch-pretrained-bert) (2021.5.30)\n",
            "Installing collected packages: urllib3, jmespath, botocore, s3transfer, boto3, pytorch-pretrained-bert\n",
            "  Attempting uninstall: urllib3\n",
            "    Found existing installation: urllib3 1.24.3\n",
            "    Uninstalling urllib3-1.24.3:\n",
            "      Successfully uninstalled urllib3-1.24.3\n",
            "\u001b[31mERROR: pip's dependency resolver does not currently take into account all the packages that are installed. This behaviour is the source of the following dependency conflicts.\n",
            "datascience 0.10.6 requires folium==0.2.1, but you have folium 0.8.3 which is incompatible.\u001b[0m\n",
            "Successfully installed boto3-1.19.12 botocore-1.22.12 jmespath-0.10.0 pytorch-pretrained-bert-0.6.2 s3transfer-0.5.0 urllib3-1.25.11\n"
          ]
        }
      ]
    },
    {
      "cell_type": "code",
      "metadata": {
        "colab": {
          "base_uri": "https://localhost:8080/"
        },
        "id": "0KCoaFnLZWYj",
        "outputId": "8cdf4e11-c461-4509-aadc-1675888d74f9"
      },
      "source": [
        "from google.colab import drive\n",
        "drive.mount('/content/drive')atplotlib"
      ],
      "execution_count": 3,
      "outputs": [
        {
          "output_type": "stream",
          "name": "stdout",
          "text": [
            "Mounted at /content/drive\n"
          ]
        }
      ]
    },
    {
      "cell_type": "code",
      "metadata": {
        "colab": {
          "base_uri": "https://localhost:8080/"
        },
        "id": "F1hknKOMf36V",
        "outputId": "ab5193e8-1b96-432c-c57f-479424976e9a"
      },
      "source": [
        "!python /content/clinicalBERT/preprocess.py"
      ],
      "execution_count": 4,
      "outputs": [
        {
          "output_type": "stream",
          "name": "stdout",
          "text": [
            "tcmalloc: large alloc 1073741824 bytes == 0x55edc6afc000 @  0x7fcaacbaa2a4 0x7fca949cf9f5 0x7fca949d0d42 0x7fca949d245e 0x7fca949a4068 0x7fca949a3510 0x7fca9499ef4e 0x7fca94983fe4 0x55ed803394b0 0x55ed8042ae1d 0x55ed803ace99 0x55ed803a7ced 0x55ed8033abda 0x55ed803a8c0d 0x55ed803a79ee 0x55ed8033abda 0x55ed803a8c0d 0x55ed8033aafa 0x55ed803a8915 0x55ed803a79ee 0x55ed8033abda 0x55ed803acd00 0x55ed803a79ee 0x55ed803a76f3 0x55ed804714c2 0x55ed8047183d 0x55ed804716e6 0x55ed80449163 0x55ed80448e0c 0x7fcaab993bf7 0x55ed80448cea\n",
            "sys:1: DtypeWarning: Columns (4,5) have mixed types.Specify dtype option on import or set low_memory=False.\n",
            "/content/clinicalBERT/preprocess.py:38: UserWarning: Pandas doesn't allow columns to be created via a new attribute name - see https://pandas.pydata.org/pandas-docs/stable/indexing.html#attribute-access\n",
            "  df_adm_notes.ADMITTIME_C = df_adm_notes.ADMITTIME.apply(lambda x: str(x).split(' ')[0])\n",
            "100% 43880/43880 [42:14<00:00, 17.31it/s]\n",
            "100% 44112/44112 [1:07:08<00:00, 10.95it/s]\n",
            "100% 44551/44551 [2:03:32<00:00,  6.01it/s]\n"
          ]
        }
      ]
    },
    {
      "cell_type": "code",
      "metadata": {
        "colab": {
          "base_uri": "https://localhost:8080/"
        },
        "id": "NybIE4Euct6Y",
        "outputId": "d8221a00-c73f-4bc9-a419-843fb78df438"
      },
      "source": [
        "pip install funcsigs"
      ],
      "execution_count": 9,
      "outputs": [
        {
          "output_type": "stream",
          "name": "stdout",
          "text": [
            "Collecting funcsigs\n",
            "  Downloading funcsigs-1.0.2-py2.py3-none-any.whl (17 kB)\n",
            "Installing collected packages: funcsigs\n",
            "Successfully installed funcsigs-1.0.2\n"
          ]
        }
      ]
    },
    {
      "cell_type": "code",
      "metadata": {
        "id": "NQupJieh-67e"
      },
      "source": [
        ""
      ],
      "execution_count": null,
      "outputs": []
    },
    {
      "cell_type": "code",
      "metadata": {
        "colab": {
          "base_uri": "https://localhost:8080/"
        },
        "id": "6McmKwTMd8EF",
        "outputId": "0b4d573c-e961-4584-b66c-9fa30f939fff"
      },
      "source": [
        "!python /content/clinicalBERT/run_readmission.py --task_name readmission --readmission_mode early --do_eval --data_dir /content/clinicalBERT/data/3days --bert_model /content/clinicalBERT/model/ --max_seq_length 512 --output_dir /content/clinicalBERT/result"
      ],
      "execution_count": null,
      "outputs": [
        {
          "output_type": "stream",
          "name": "stdout",
          "text": [
            "in the modeling class\n",
            "11/07/2021 00:30:45 - INFO - __main__ -   device cpu n_gpu 0 distributed training False\n",
            "11/07/2021 00:30:45 - INFO - pytorch_pretrained_bert.tokenization -   loading vocabulary file https://s3.amazonaws.com/models.huggingface.co/bert/bert-base-uncased-vocab.txt from cache at /root/.pytorch_pretrained_bert/26bc1ad6c0ac742e9b52263248f6d0f00068293b33709fae12320c0e35ccfbbb.542ce4285a40d23a559526243235df47c5f75c197f04f37d1a0c124c32c9a084\n",
            "11/07/2021 00:30:45 - INFO - modeling_readmission -   loading archive file /content/clinicalBERT/model/\n",
            "11/07/2021 00:30:45 - INFO - modeling_readmission -   Model config {\n",
            "  \"attention_probs_dropout_prob\": 0.1,\n",
            "  \"hidden_act\": \"gelu\",\n",
            "  \"hidden_dropout_prob\": 0.1,\n",
            "  \"hidden_size\": 768,\n",
            "  \"initializer_range\": 0.02,\n",
            "  \"intermediate_size\": 3072,\n",
            "  \"max_position_embeddings\": 512,\n",
            "  \"num_attention_heads\": 12,\n",
            "  \"num_hidden_layers\": 12,\n",
            "  \"type_vocab_size\": 2,\n",
            "  \"vocab_size\": 30522\n",
            "}\n",
            "\n",
            "11/07/2021 00:30:49 - INFO - __main__ -   *** Example ***\n",
            "11/07/2021 00:30:49 - INFO - __main__ -   guid: test-0\n",
            "11/07/2021 00:30:49 - INFO - __main__ -   tokens: [CLS] 10 : 11 pm chest ( pre - op pa & la ##t ) clip # reason : corona ##ry artery disease admitting diagnosis : corona ##ry artery disease medical condition : 77 year old woman with reason for this examination : pre - op final report indication : 77 year old pre - op for cab ##g . technique : pa and lateral radio ##graphs . comparison : findings : the heart is enlarged . there are bilateral pl ##eur ##al e ##ff ##usions , right greater than left with associated minor ate ##le ##cta ##tic changes at the lung bases . the pulmonary va ##scu ##lat ##ure appears somewhat prominent with an upper zone redistribution . there is no p ##ne ##um ##otho ##ra ##x . the patient has had a prior cab ##g with unchanged appearance of median stern ##oto ##my wires . surgical clips are also seen overly ##ing both right and left hem ##ith ##ora ##ces . the os ##se ##ous structures are un ##rem ##ark ##able . impression : card ##iom ##ega ##ly with mild cong ##est ##ive heart failure and bilateral pl ##eur ##al e ##ff ##usions . patient / test information : indication : ao ##rti ##c valve disease . corona ##ry artery disease . height : ( in ) 65 weight ( lb ) : 198 bs ##a ( m2 ) : 97 m2 bp ( mm h ##g ) : 140 / 74 hr ( bp ##m ) : 50 status : in ##patient date / time : at 10 : 53 test : tt ##e ( complete ) do ##pp ##ler : full do ##pp ##ler and color do ##pp ##ler contrast : none technical quality : adequate interpretation : findings : left atrium : mild la en ##lar ##gement . right atrium / inter ##at ##rial sept ##um : mildly dil ##ated ra . left vent ##ric ##le : mild symmetric l ##v ##h . mildly dil ##ated l ##v cavity . mild regional l ##v sy ##sto ##lic dysfunction . no resting l ##vot gradient . no l ##v mass / th ##rom ##bus . l ##v wall motion : regional l ##v wall motion abnormalities include : sept ##al apex - h ##yp ##o ; apex - d ##ys ##kin ##etic ; right vent ##ric ##le : normal rv chamber size and free wall motion . ao ##rta : normal ao ##rti ##c root diameter . moderately dil ##ated ascending ao ##rta . ao ##rti ##c valve : severely thick ##ened / def ##or ##med ao ##rti ##c valve leaflets . moderate as . mit ##ral valve : mildly thick ##ened mit ##ral valve leaflets . mild mit ##ral ann ##ular cal ##ci ##fication . mild thick ##ening of mit ##ral valve chord ##ae . mild ( 1 + ) mr . tri ##cus ##pid valve : mild pa sy ##sto ##lic hyper ##tension . per ##ica ##rdi ##um : no per ##ica ##rdial e ##ff ##usion . general comments : sub ##op ##ti ##mal image [SEP]\n",
            "11/07/2021 00:30:49 - INFO - __main__ -   input_ids: 101 2184 1024 2340 7610 3108 1006 3653 1011 6728 6643 1004 2474 2102 1007 12528 1001 3114 1024 21887 2854 16749 4295 17927 11616 1024 21887 2854 16749 4295 2966 4650 1024 6255 2095 2214 2450 2007 3114 2005 2023 7749 1024 3653 1011 6728 2345 3189 12407 1024 6255 2095 2214 3653 1011 6728 2005 9298 2290 1012 6028 1024 6643 1998 11457 2557 27341 1012 7831 1024 9556 1024 1996 2540 2003 11792 1012 2045 2024 17758 20228 11236 2389 1041 4246 22016 1010 2157 3618 2084 2187 2007 3378 3576 8823 2571 25572 4588 3431 2012 1996 11192 7888 1012 1996 21908 12436 28817 20051 5397 3544 5399 4069 2007 2019 3356 4224 25707 1012 2045 2003 2053 1052 2638 2819 29288 2527 2595 1012 1996 5776 2038 2018 1037 3188 9298 2290 2007 15704 3311 1997 3991 8665 11439 8029 14666 1012 11707 15281 2024 2036 2464 15241 2075 2119 2157 1998 2187 19610 8939 6525 9623 1012 1996 9808 3366 3560 5090 2024 4895 28578 17007 3085 1012 8605 1024 4003 18994 29107 2135 2007 10256 26478 4355 3512 2540 4945 1998 17758 20228 11236 2389 1041 4246 22016 1012 5776 1013 3231 2592 1024 12407 1024 20118 28228 2278 10764 4295 1012 21887 2854 16749 4295 1012 4578 1024 1006 1999 1007 3515 3635 1006 6053 1007 1024 20003 18667 2050 1006 25525 1007 1024 5989 25525 17531 1006 3461 1044 2290 1007 1024 8574 1013 6356 17850 1006 17531 2213 1007 1024 2753 3570 1024 1999 24343 3058 1013 2051 1024 2012 2184 1024 5187 3231 1024 23746 2063 1006 3143 1007 2079 9397 3917 1024 2440 2079 9397 3917 1998 3609 2079 9397 3917 5688 1024 3904 4087 3737 1024 11706 7613 1024 9556 1024 2187 26204 1024 10256 2474 4372 8017 20511 1012 2157 26204 1013 6970 4017 14482 17419 2819 1024 19499 29454 4383 10958 1012 2187 18834 7277 2571 1024 10256 19490 1048 2615 2232 1012 19499 29454 4383 1048 2615 17790 1012 10256 3164 1048 2615 25353 16033 10415 28466 1012 2053 8345 1048 22994 17978 1012 2053 1048 2615 3742 1013 16215 21716 8286 1012 1048 2615 2813 4367 1024 3164 1048 2615 2813 4367 28828 2421 1024 17419 2389 13450 1011 1044 22571 2080 1025 13450 1011 1040 7274 4939 16530 1025 2157 18834 7277 2571 1024 3671 27634 4574 2946 1998 2489 2813 4367 1012 20118 13320 1024 3671 20118 28228 2278 7117 6705 1012 17844 29454 4383 22316 20118 13320 1012 20118 28228 2278 10764 1024 8949 4317 6675 1013 13366 2953 7583 20118 28228 2278 10764 27306 1012 8777 2004 1012 10210 7941 10764 1024 19499 4317 6675 10210 7941 10764 27306 1012 10256 10210 7941 5754 7934 10250 6895 10803 1012 10256 4317 7406 1997 10210 7941 10764 13924 6679 1012 10256 1006 1015 1009 1007 2720 1012 13012 7874 23267 10764 1024 10256 6643 25353 16033 10415 23760 29048 1012 2566 5555 17080 2819 1024 2053 2566 5555 25070 1041 4246 14499 1012 2236 7928 1024 4942 7361 3775 9067 3746 102\n",
            "11/07/2021 00:30:49 - INFO - __main__ -   input_mask: 1 1 1 1 1 1 1 1 1 1 1 1 1 1 1 1 1 1 1 1 1 1 1 1 1 1 1 1 1 1 1 1 1 1 1 1 1 1 1 1 1 1 1 1 1 1 1 1 1 1 1 1 1 1 1 1 1 1 1 1 1 1 1 1 1 1 1 1 1 1 1 1 1 1 1 1 1 1 1 1 1 1 1 1 1 1 1 1 1 1 1 1 1 1 1 1 1 1 1 1 1 1 1 1 1 1 1 1 1 1 1 1 1 1 1 1 1 1 1 1 1 1 1 1 1 1 1 1 1 1 1 1 1 1 1 1 1 1 1 1 1 1 1 1 1 1 1 1 1 1 1 1 1 1 1 1 1 1 1 1 1 1 1 1 1 1 1 1 1 1 1 1 1 1 1 1 1 1 1 1 1 1 1 1 1 1 1 1 1 1 1 1 1 1 1 1 1 1 1 1 1 1 1 1 1 1 1 1 1 1 1 1 1 1 1 1 1 1 1 1 1 1 1 1 1 1 1 1 1 1 1 1 1 1 1 1 1 1 1 1 1 1 1 1 1 1 1 1 1 1 1 1 1 1 1 1 1 1 1 1 1 1 1 1 1 1 1 1 1 1 1 1 1 1 1 1 1 1 1 1 1 1 1 1 1 1 1 1 1 1 1 1 1 1 1 1 1 1 1 1 1 1 1 1 1 1 1 1 1 1 1 1 1 1 1 1 1 1 1 1 1 1 1 1 1 1 1 1 1 1 1 1 1 1 1 1 1 1 1 1 1 1 1 1 1 1 1 1 1 1 1 1 1 1 1 1 1 1 1 1 1 1 1 1 1 1 1 1 1 1 1 1 1 1 1 1 1 1 1 1 1 1 1 1 1 1 1 1 1 1 1 1 1 1 1 1 1 1 1 1 1 1 1 1 1 1 1 1 1 1 1 1 1 1 1 1 1 1 1 1 1 1 1 1 1 1 1 1 1 1 1 1 1 1 1 1 1 1 1 1 1 1 1 1 1 1 1 1 1 1 1 1 1 1 1 1 1 1 1 1 1 1 1 1 1 1 1 1 1 1 1 1 1 1 1 1 1 1 1 1 1 1 1 1 1 1 1 1 1 1 1 1 1 1 1 1 1 1 1 1 1 1 1 1 1 1 1 1 1 1 1 1\n",
            "11/07/2021 00:30:49 - INFO - __main__ -   segment_ids: 0 0 0 0 0 0 0 0 0 0 0 0 0 0 0 0 0 0 0 0 0 0 0 0 0 0 0 0 0 0 0 0 0 0 0 0 0 0 0 0 0 0 0 0 0 0 0 0 0 0 0 0 0 0 0 0 0 0 0 0 0 0 0 0 0 0 0 0 0 0 0 0 0 0 0 0 0 0 0 0 0 0 0 0 0 0 0 0 0 0 0 0 0 0 0 0 0 0 0 0 0 0 0 0 0 0 0 0 0 0 0 0 0 0 0 0 0 0 0 0 0 0 0 0 0 0 0 0 0 0 0 0 0 0 0 0 0 0 0 0 0 0 0 0 0 0 0 0 0 0 0 0 0 0 0 0 0 0 0 0 0 0 0 0 0 0 0 0 0 0 0 0 0 0 0 0 0 0 0 0 0 0 0 0 0 0 0 0 0 0 0 0 0 0 0 0 0 0 0 0 0 0 0 0 0 0 0 0 0 0 0 0 0 0 0 0 0 0 0 0 0 0 0 0 0 0 0 0 0 0 0 0 0 0 0 0 0 0 0 0 0 0 0 0 0 0 0 0 0 0 0 0 0 0 0 0 0 0 0 0 0 0 0 0 0 0 0 0 0 0 0 0 0 0 0 0 0 0 0 0 0 0 0 0 0 0 0 0 0 0 0 0 0 0 0 0 0 0 0 0 0 0 0 0 0 0 0 0 0 0 0 0 0 0 0 0 0 0 0 0 0 0 0 0 0 0 0 0 0 0 0 0 0 0 0 0 0 0 0 0 0 0 0 0 0 0 0 0 0 0 0 0 0 0 0 0 0 0 0 0 0 0 0 0 0 0 0 0 0 0 0 0 0 0 0 0 0 0 0 0 0 0 0 0 0 0 0 0 0 0 0 0 0 0 0 0 0 0 0 0 0 0 0 0 0 0 0 0 0 0 0 0 0 0 0 0 0 0 0 0 0 0 0 0 0 0 0 0 0 0 0 0 0 0 0 0 0 0 0 0 0 0 0 0 0 0 0 0 0 0 0 0 0 0 0 0 0 0 0 0 0 0 0 0 0 0 0 0 0 0 0 0 0 0 0 0 0 0 0 0 0 0 0 0 0 0 0 0 0 0 0 0 0 0 0 0 0 0 0 0 0 0 0 0 0 0 0 0 0 0 0 0\n",
            "11/07/2021 00:30:49 - INFO - __main__ -   label: 0 (id = 0)\n",
            "11/07/2021 00:30:49 - INFO - __main__ -   *** Example ***\n",
            "11/07/2021 00:30:49 - INFO - __main__ -   guid: test-1\n",
            "11/07/2021 00:30:49 - INFO - __main__ -   tokens: [CLS] e ##ff ##usion . conclusions : the left atrium is mildly dil ##ated . there is mild symmetric left vent ##ric ##ular hyper ##tro ##phy . the left vent ##ric ##ular cavity is mildly dil ##ated . there is mild global h ##yp ##oki ##nes ##is with focal akin ##esis of the distal sept ##um and distal inferior wall . the apex is mildly d ##ys ##kin ##etic . no discrete th ##rom ##bus is seen , but apical images are somewhat technically sub ##op ##ti ##mal . right vent ##ric ##ular chamber size and free wall motion are normal . the ascending ao ##rta is moderately dil ##ated . the ao ##rti ##c valve leaflets are severely thick ##ened / def ##or ##med . there is moderate ao ##rti ##c valve ste ##nosis . no ao ##rti ##c reg ##urg ##itation is seen . the mit ##ral valve leaflets are mildly thick ##ened . mild ( 1 + ) mit ##ral reg ##urg ##itation is seen . there is mild pulmonary artery sy ##sto ##lic hyper ##tension . there is no per ##ica ##rdial e ##ff ##usion . impression : moderate ao ##rti ##c valve ste ##nosis . mild symmetric left vent ##ric ##ular hyper ##tro ##phy with cavity en ##lar ##gement and regional sy ##sto ##lic dysfunction . pulmonary artery sy ##sto ##lic hyper ##tension . based on ah ##a end ##oca ##rdi ##tis prop ##hyl ##ax ##is recommendations , the echo findings indicate a moderate risk ( prop ##hyl ##ax ##is recommended ) . clinical decisions regarding the need for prop ##hyl ##ax ##is should be based on clinical and echo ##card ##io ##graphic data . sin ##us brady ##card ##ia diffuse st - t wave abnormalities may be due to is ##che ##mia since previous tracing of , change in rhythm seen and st - t wave abnormalities more marked [SEP]\n",
            "11/07/2021 00:30:49 - INFO - __main__ -   input_ids: 101 1041 4246 14499 1012 15306 1024 1996 2187 26204 2003 19499 29454 4383 1012 2045 2003 10256 19490 2187 18834 7277 7934 23760 13181 21281 1012 1996 2187 18834 7277 7934 17790 2003 19499 29454 4383 1012 2045 2003 10256 3795 1044 22571 23212 5267 2483 2007 15918 17793 19009 1997 1996 29333 17419 2819 1998 29333 14092 2813 1012 1996 13450 2003 19499 1040 7274 4939 16530 1012 2053 16246 16215 21716 8286 2003 2464 1010 2021 29197 4871 2024 5399 10892 4942 7361 3775 9067 1012 2157 18834 7277 7934 4574 2946 1998 2489 2813 4367 2024 3671 1012 1996 22316 20118 13320 2003 17844 29454 4383 1012 1996 20118 28228 2278 10764 27306 2024 8949 4317 6675 1013 13366 2953 7583 1012 2045 2003 8777 20118 28228 2278 10764 26261 27109 1012 2053 20118 28228 2278 19723 12514 18557 2003 2464 1012 1996 10210 7941 10764 27306 2024 19499 4317 6675 1012 10256 1006 1015 1009 1007 10210 7941 19723 12514 18557 2003 2464 1012 2045 2003 10256 21908 16749 25353 16033 10415 23760 29048 1012 2045 2003 2053 2566 5555 25070 1041 4246 14499 1012 8605 1024 8777 20118 28228 2278 10764 26261 27109 1012 10256 19490 2187 18834 7277 7934 23760 13181 21281 2007 17790 4372 8017 20511 1998 3164 25353 16033 10415 28466 1012 21908 16749 25353 16033 10415 23760 29048 1012 2241 2006 6289 2050 2203 24755 17080 7315 17678 29598 8528 2483 11433 1010 1996 9052 9556 5769 1037 8777 3891 1006 17678 29598 8528 2483 6749 1007 1012 6612 6567 4953 1996 2342 2005 17678 29598 8528 2483 2323 2022 2241 2006 6612 1998 9052 11522 3695 14773 2951 1012 8254 2271 10184 11522 2401 28105 2358 1011 1056 4400 28828 2089 2022 2349 2000 2003 5403 10092 2144 3025 16907 1997 1010 2689 1999 6348 2464 1998 2358 1011 1056 4400 28828 2062 4417 102 0 0 0 0 0 0 0 0 0 0 0 0 0 0 0 0 0 0 0 0 0 0 0 0 0 0 0 0 0 0 0 0 0 0 0 0 0 0 0 0 0 0 0 0 0 0 0 0 0 0 0 0 0 0 0 0 0 0 0 0 0 0 0 0 0 0 0 0 0 0 0 0 0 0 0 0 0 0 0 0 0 0 0 0 0 0 0 0 0 0 0 0 0 0 0 0 0 0 0 0 0 0 0 0 0 0 0 0 0 0 0 0 0 0 0 0 0 0 0 0 0 0 0 0 0 0 0 0 0 0 0 0 0 0 0 0 0 0 0 0 0 0 0 0 0 0 0 0 0 0 0 0 0 0 0 0 0 0 0 0 0 0 0 0 0 0 0 0 0 0 0 0 0 0 0 0 0 0 0 0 0 0 0 0 0 0 0 0 0 0 0 0 0 0 0 0\n",
            "11/07/2021 00:30:49 - INFO - __main__ -   input_mask: 1 1 1 1 1 1 1 1 1 1 1 1 1 1 1 1 1 1 1 1 1 1 1 1 1 1 1 1 1 1 1 1 1 1 1 1 1 1 1 1 1 1 1 1 1 1 1 1 1 1 1 1 1 1 1 1 1 1 1 1 1 1 1 1 1 1 1 1 1 1 1 1 1 1 1 1 1 1 1 1 1 1 1 1 1 1 1 1 1 1 1 1 1 1 1 1 1 1 1 1 1 1 1 1 1 1 1 1 1 1 1 1 1 1 1 1 1 1 1 1 1 1 1 1 1 1 1 1 1 1 1 1 1 1 1 1 1 1 1 1 1 1 1 1 1 1 1 1 1 1 1 1 1 1 1 1 1 1 1 1 1 1 1 1 1 1 1 1 1 1 1 1 1 1 1 1 1 1 1 1 1 1 1 1 1 1 1 1 1 1 1 1 1 1 1 1 1 1 1 1 1 1 1 1 1 1 1 1 1 1 1 1 1 1 1 1 1 1 1 1 1 1 1 1 1 1 1 1 1 1 1 1 1 1 1 1 1 1 1 1 1 1 1 1 1 1 1 1 1 1 1 1 1 1 1 1 1 1 1 1 1 1 1 1 1 1 1 1 1 1 1 1 1 1 1 1 1 1 1 1 1 1 1 1 1 1 1 1 1 1 1 1 1 1 1 1 1 1 1 1 1 1 1 1 1 1 1 1 1 1 1 1 1 1 1 1 0 0 0 0 0 0 0 0 0 0 0 0 0 0 0 0 0 0 0 0 0 0 0 0 0 0 0 0 0 0 0 0 0 0 0 0 0 0 0 0 0 0 0 0 0 0 0 0 0 0 0 0 0 0 0 0 0 0 0 0 0 0 0 0 0 0 0 0 0 0 0 0 0 0 0 0 0 0 0 0 0 0 0 0 0 0 0 0 0 0 0 0 0 0 0 0 0 0 0 0 0 0 0 0 0 0 0 0 0 0 0 0 0 0 0 0 0 0 0 0 0 0 0 0 0 0 0 0 0 0 0 0 0 0 0 0 0 0 0 0 0 0 0 0 0 0 0 0 0 0 0 0 0 0 0 0 0 0 0 0 0 0 0 0 0 0 0 0 0 0 0 0 0 0 0 0 0 0 0 0 0 0 0 0 0 0 0 0 0 0 0 0 0 0 0 0\n",
            "11/07/2021 00:30:49 - INFO - __main__ -   segment_ids: 0 0 0 0 0 0 0 0 0 0 0 0 0 0 0 0 0 0 0 0 0 0 0 0 0 0 0 0 0 0 0 0 0 0 0 0 0 0 0 0 0 0 0 0 0 0 0 0 0 0 0 0 0 0 0 0 0 0 0 0 0 0 0 0 0 0 0 0 0 0 0 0 0 0 0 0 0 0 0 0 0 0 0 0 0 0 0 0 0 0 0 0 0 0 0 0 0 0 0 0 0 0 0 0 0 0 0 0 0 0 0 0 0 0 0 0 0 0 0 0 0 0 0 0 0 0 0 0 0 0 0 0 0 0 0 0 0 0 0 0 0 0 0 0 0 0 0 0 0 0 0 0 0 0 0 0 0 0 0 0 0 0 0 0 0 0 0 0 0 0 0 0 0 0 0 0 0 0 0 0 0 0 0 0 0 0 0 0 0 0 0 0 0 0 0 0 0 0 0 0 0 0 0 0 0 0 0 0 0 0 0 0 0 0 0 0 0 0 0 0 0 0 0 0 0 0 0 0 0 0 0 0 0 0 0 0 0 0 0 0 0 0 0 0 0 0 0 0 0 0 0 0 0 0 0 0 0 0 0 0 0 0 0 0 0 0 0 0 0 0 0 0 0 0 0 0 0 0 0 0 0 0 0 0 0 0 0 0 0 0 0 0 0 0 0 0 0 0 0 0 0 0 0 0 0 0 0 0 0 0 0 0 0 0 0 0 0 0 0 0 0 0 0 0 0 0 0 0 0 0 0 0 0 0 0 0 0 0 0 0 0 0 0 0 0 0 0 0 0 0 0 0 0 0 0 0 0 0 0 0 0 0 0 0 0 0 0 0 0 0 0 0 0 0 0 0 0 0 0 0 0 0 0 0 0 0 0 0 0 0 0 0 0 0 0 0 0 0 0 0 0 0 0 0 0 0 0 0 0 0 0 0 0 0 0 0 0 0 0 0 0 0 0 0 0 0 0 0 0 0 0 0 0 0 0 0 0 0 0 0 0 0 0 0 0 0 0 0 0 0 0 0 0 0 0 0 0 0 0 0 0 0 0 0 0 0 0 0 0 0 0 0 0 0 0 0 0 0 0 0 0 0 0 0 0 0 0 0 0 0 0 0 0 0 0 0 0 0 0 0 0 0 0 0 0 0 0 0 0 0 0 0\n",
            "11/07/2021 00:30:49 - INFO - __main__ -   label: 0 (id = 0)\n",
            "11/07/2021 00:30:49 - INFO - __main__ -   *** Example ***\n",
            "11/07/2021 00:30:49 - INFO - __main__ -   guid: test-2\n",
            "11/07/2021 00:30:49 - INFO - __main__ -   tokens: [CLS] chief complaint : abdominal pain hp ##i : 31 ##f with h / o cr ##oh ##n ' s disease ref ##rac ##tory to medical mgm ##t ( re ##mic ##ade , etc ) currently on slow ste ##roid tape ##r . recently admitted with micro ##per ##for ##ation . doctor planned on ile ##oc ##ece ##ct ##omy on . the pt now presents with ep ##iga ##st ##ric pain x 2 weeks in spite of being on ci ##pro , flag ##yl , pre ##d ##nis ##one . flag ##yl d / c ' d 2 weeks ago and put on pri ##los ##ec by doctor . over past week , pain is worse and in past 24 hr ##s severe pain in ep ##iga ##st ##rum and r ##l ##q . pt reports sweating but denies fever ##s . this am , following taking her po media ##cation the pt reported em ##esis times . she also noted abdominal pain , mostly r ##l ##q , but also lu ##q . loose stool ##s no mel ##ena or br ##b ##pr . pt reports dry mouth but denies li ##gh ##head ##ed ##ness , di ##zziness , visual changes or other pre ##sy ##nco ##pal symptoms . . in ed , 99 , 4 115 / 69 120 17 100 % ra . while in the ed , t ##m 4 and ta ##chy to 130 ##s , norm ##ote ##ns ##ive . wb ##c 1 with 15 % band ##emia , diffuse per ##ito ##ni ##tis and rigid abdomen , diffuse ##ly tender . ct abd / pe ##lvis with likely early developing abs ##ces ##s with pockets of free air in pe ##lvis . the pt received 4 ##l of ns , dil ##aud ##id 1 ##mg iv x ##7 , mor ##phine 4 ##mg iv , z ##of ##ran 4 ##gm ix x ##1 for pain and ty ##len ##ol 1 ##gm po . ab ##x were initially continued with ci ##pro 400 ##mg iv and flag ##yl 500 ##mg iv which was later switched to van ##c 1 ##g iv and z ##os ##yn 5 ##mg was given . an ng tube was placed which the pt states relieved some of her abdominal b ##lo ##ating . . all ##er ##gies : code ##ine nausea / vomiting last dose of antibiotics : in ##fusion ##s : other ic ##u medications : mor ##phine sulfate - 11 : 00 pm lo ##raz ##ep ##am ( at ##iva ##n ) - 11 : 09 pm other medications : past medical history : family history : social history : cr ##oh ##n ' s disease depression h / o arthritis related to medications an ##ore ##xia ne ##r ##vos ##a / o ##cd . past surgical history s / p wisdom teeth removal in lee ##p procedure in cousin with disease father cad at in pr department et ##oh drinks , ~ 3 times per week smoked pp ##d x 3 - 4 ##yr ##s quit 9 [SEP]\n",
            "11/07/2021 00:30:49 - INFO - __main__ -   input_ids: 101 2708 12087 1024 21419 3255 6522 2072 1024 2861 2546 2007 1044 1013 1051 13675 11631 2078 1005 1055 4295 25416 22648 7062 2000 2966 15418 2102 1006 2128 7712 9648 1010 4385 1007 2747 2006 4030 26261 22943 6823 2099 1012 3728 4914 2007 12702 4842 29278 3370 1012 3460 3740 2006 17869 10085 26005 6593 16940 2006 1012 1996 13866 2085 7534 2007 4958 13340 3367 7277 3255 1060 1016 3134 1999 8741 1997 2108 2006 25022 21572 1010 5210 8516 1010 3653 2094 8977 5643 1012 5210 8516 1040 1013 1039 1005 1040 1016 3134 3283 1998 2404 2006 26927 10483 8586 2011 3460 1012 2058 2627 2733 1010 3255 2003 4788 1998 1999 2627 2484 17850 2015 5729 3255 1999 4958 13340 3367 6824 1998 1054 2140 4160 1012 13866 4311 18972 2021 23439 9016 2015 1012 2023 2572 1010 2206 2635 2014 13433 2865 10719 1996 13866 2988 7861 19009 2335 1012 2016 2036 3264 21419 3255 1010 3262 1054 2140 4160 1010 2021 2036 11320 4160 1012 6065 14708 2015 2053 11463 8189 2030 7987 2497 18098 1012 13866 4311 4318 2677 2021 23439 5622 5603 4974 2098 2791 1010 4487 29212 1010 5107 3431 2030 2060 3653 6508 15305 12952 8030 1012 1012 1999 3968 1010 5585 1010 1018 10630 1013 6353 6036 2459 2531 1003 10958 1012 2096 1999 1996 3968 1010 1056 2213 1018 1998 11937 11714 2000 7558 2015 1010 13373 12184 3619 3512 1012 25610 2278 1015 2007 2321 1003 2316 17577 1010 28105 2566 9956 3490 7315 1998 11841 13878 1010 28105 2135 8616 1012 14931 19935 1013 21877 28530 2007 3497 2220 4975 14689 9623 2015 2007 10306 1997 2489 2250 1999 21877 28530 1012 1996 13866 2363 1018 2140 1997 24978 1010 29454 19513 3593 1015 24798 4921 1060 2581 1010 22822 20738 1018 24798 4921 1010 1062 11253 5521 1018 21693 11814 1060 2487 2005 3255 1998 5939 7770 4747 1015 21693 13433 1012 11113 2595 2020 3322 2506 2007 25022 21572 4278 24798 4921 1998 5210 8516 3156 24798 4921 2029 2001 2101 7237 2000 3158 2278 1015 2290 4921 1998 1062 2891 6038 1019 24798 2001 2445 1012 2019 12835 7270 2001 2872 2029 1996 13866 2163 7653 2070 1997 2014 21419 1038 4135 5844 1012 1012 2035 2121 17252 1024 3642 3170 19029 1013 24780 2197 13004 1997 24479 1024 1999 20523 2015 1024 2060 24582 2226 20992 1024 22822 20738 26754 1011 2340 1024 4002 7610 8840 20409 13699 3286 1006 2012 11444 2078 1007 1011 2340 1024 5641 7610 2060 20992 1024 2627 2966 2381 1024 2155 2381 1024 2591 2381 1024 13675 11631 2078 1005 1055 4295 6245 1044 1013 1051 27641 3141 2000 20992 2019 5686 14787 11265 2099 19862 2050 1013 1051 19797 1012 2627 11707 2381 1055 1013 1052 9866 4091 8208 1999 3389 2361 7709 1999 5542 2007 4295 2269 28353 2012 1999 10975 2533 3802 11631 8974 1010 1066 1017 2335 2566 2733 20482 4903 2094 1060 1017 1011 1018 12541 2015 8046 1023 102\n",
            "11/07/2021 00:30:49 - INFO - __main__ -   input_mask: 1 1 1 1 1 1 1 1 1 1 1 1 1 1 1 1 1 1 1 1 1 1 1 1 1 1 1 1 1 1 1 1 1 1 1 1 1 1 1 1 1 1 1 1 1 1 1 1 1 1 1 1 1 1 1 1 1 1 1 1 1 1 1 1 1 1 1 1 1 1 1 1 1 1 1 1 1 1 1 1 1 1 1 1 1 1 1 1 1 1 1 1 1 1 1 1 1 1 1 1 1 1 1 1 1 1 1 1 1 1 1 1 1 1 1 1 1 1 1 1 1 1 1 1 1 1 1 1 1 1 1 1 1 1 1 1 1 1 1 1 1 1 1 1 1 1 1 1 1 1 1 1 1 1 1 1 1 1 1 1 1 1 1 1 1 1 1 1 1 1 1 1 1 1 1 1 1 1 1 1 1 1 1 1 1 1 1 1 1 1 1 1 1 1 1 1 1 1 1 1 1 1 1 1 1 1 1 1 1 1 1 1 1 1 1 1 1 1 1 1 1 1 1 1 1 1 1 1 1 1 1 1 1 1 1 1 1 1 1 1 1 1 1 1 1 1 1 1 1 1 1 1 1 1 1 1 1 1 1 1 1 1 1 1 1 1 1 1 1 1 1 1 1 1 1 1 1 1 1 1 1 1 1 1 1 1 1 1 1 1 1 1 1 1 1 1 1 1 1 1 1 1 1 1 1 1 1 1 1 1 1 1 1 1 1 1 1 1 1 1 1 1 1 1 1 1 1 1 1 1 1 1 1 1 1 1 1 1 1 1 1 1 1 1 1 1 1 1 1 1 1 1 1 1 1 1 1 1 1 1 1 1 1 1 1 1 1 1 1 1 1 1 1 1 1 1 1 1 1 1 1 1 1 1 1 1 1 1 1 1 1 1 1 1 1 1 1 1 1 1 1 1 1 1 1 1 1 1 1 1 1 1 1 1 1 1 1 1 1 1 1 1 1 1 1 1 1 1 1 1 1 1 1 1 1 1 1 1 1 1 1 1 1 1 1 1 1 1 1 1 1 1 1 1 1 1 1 1 1 1 1 1 1 1 1 1 1 1 1 1 1 1 1 1 1 1 1 1 1 1 1 1 1 1 1 1 1 1 1 1 1 1 1 1 1 1 1 1 1 1 1 1 1 1 1 1 1 1 1 1 1 1\n",
            "11/07/2021 00:30:49 - INFO - __main__ -   segment_ids: 0 0 0 0 0 0 0 0 0 0 0 0 0 0 0 0 0 0 0 0 0 0 0 0 0 0 0 0 0 0 0 0 0 0 0 0 0 0 0 0 0 0 0 0 0 0 0 0 0 0 0 0 0 0 0 0 0 0 0 0 0 0 0 0 0 0 0 0 0 0 0 0 0 0 0 0 0 0 0 0 0 0 0 0 0 0 0 0 0 0 0 0 0 0 0 0 0 0 0 0 0 0 0 0 0 0 0 0 0 0 0 0 0 0 0 0 0 0 0 0 0 0 0 0 0 0 0 0 0 0 0 0 0 0 0 0 0 0 0 0 0 0 0 0 0 0 0 0 0 0 0 0 0 0 0 0 0 0 0 0 0 0 0 0 0 0 0 0 0 0 0 0 0 0 0 0 0 0 0 0 0 0 0 0 0 0 0 0 0 0 0 0 0 0 0 0 0 0 0 0 0 0 0 0 0 0 0 0 0 0 0 0 0 0 0 0 0 0 0 0 0 0 0 0 0 0 0 0 0 0 0 0 0 0 0 0 0 0 0 0 0 0 0 0 0 0 0 0 0 0 0 0 0 0 0 0 0 0 0 0 0 0 0 0 0 0 0 0 0 0 0 0 0 0 0 0 0 0 0 0 0 0 0 0 0 0 0 0 0 0 0 0 0 0 0 0 0 0 0 0 0 0 0 0 0 0 0 0 0 0 0 0 0 0 0 0 0 0 0 0 0 0 0 0 0 0 0 0 0 0 0 0 0 0 0 0 0 0 0 0 0 0 0 0 0 0 0 0 0 0 0 0 0 0 0 0 0 0 0 0 0 0 0 0 0 0 0 0 0 0 0 0 0 0 0 0 0 0 0 0 0 0 0 0 0 0 0 0 0 0 0 0 0 0 0 0 0 0 0 0 0 0 0 0 0 0 0 0 0 0 0 0 0 0 0 0 0 0 0 0 0 0 0 0 0 0 0 0 0 0 0 0 0 0 0 0 0 0 0 0 0 0 0 0 0 0 0 0 0 0 0 0 0 0 0 0 0 0 0 0 0 0 0 0 0 0 0 0 0 0 0 0 0 0 0 0 0 0 0 0 0 0 0 0 0 0 0 0 0 0 0 0 0 0 0 0 0 0 0 0 0 0 0 0 0 0 0 0 0 0 0 0\n",
            "11/07/2021 00:30:49 - INFO - __main__ -   label: 1 (id = 1)\n",
            "11/07/2021 00:30:49 - INFO - __main__ -   *** Example ***\n",
            "11/07/2021 00:30:49 - INFO - __main__ -   guid: test-3\n",
            "11/07/2021 00:30:49 - INFO - __main__ -   tokens: [CLS] ( + ) per hp ##i ( - ) denies chill ##s , night sweat ##s , recent weight loss or gain . denies headache , sin ##us tenderness , rhino ##rr ##hea or congestion . denied cough , short ##ness of breath . occasional chest pressure , but denies tight ##ness , pal ##pit ##ations . denied nausea , vomiting , dia ##rr ##hea , con ##sti ##pati ##on or abdominal pain . the pt stated it took her 3 - 4 minutes to initiate ur ##ination today in the setting of increased abdominal pain . denies d ##ys ##uria . flows ##hee ##t data as of 11 : 28 pm vital signs hem ##od ##yna ##mic monitoring fluid balance 24 hours since 12 am t ##max : 7 c ( 9 tc ##urrent : 7 c ( 9 hr : 124 ( 106 - 124 ) bp ##m bp : 119 / 81 ( 90 ) { 117 / 72 ( 83 ) - 133 / 81 ( 90 ) } mm ##hg rr : 26 ( 24 - 29 ) ins ##p / min sp ##o ##2 : 97 % heart rhythm : st ( sin ##us ta ##chy ##card ##ia ) height : 64 inch total in : 6 , 000 ml po : t ##f : iv ##f : 2 , 000 ml blood products : total out : 0 ml 80 ml urine : 80 ml ng : stool : drains : balance : 0 ml 5 , 92 ##0 ml respiratory o ##2 delivery device : none sp ##o ##2 : 97 % physical examination general : alert , oriented , nad when lying still hee ##nt : dry mmm , per ##rl ##a , e ##omi neck : su ##pp ##le , j ##v ##p 6 - 7 ##cm , no lad lungs : clear to aus ##cu ##lta ##tion bilateral ##ly , no w ##hee ##zes , ra ##les , ron ##chi cv : ta ##chy ##card ##ic , normal s ##1 + s ##2 , no murmurs , rubs , gallo ##ps abdomen : firm , diffuse ##ly tender , non - di ##sten ##ded , h ##yp ##oa ##ctive bow ##el sounds present . + guarding . tenderness to pal ##pati ##on > rebound . ex ##t : warm . 2 + pulses , no club ##bing , cy ##ano ##sis or ed ##ema labs / radio ##logy labs : 1 > 6 < 69 ##5 15 % band ##emia na 140 , k 7 cl 102 , hc ##o ##3 102 , bun 10 , cr 8 , g ##lu ##c 115 l ##ft ##s normal lac ##tate 9 ct scan ( wet read ) : free fluid around liver , diffuse small bow ##el in ##fl ##am ##ma ti ##on , approx 2 ##x ##4 cm collection in pe ##lvis with pockets of free air , me ##sen ##ter ##ic in fl ##am ##mation assessment and plan 31 ##f here with long - standing ref ##rac ##tory [SEP]\n",
            "11/07/2021 00:30:49 - INFO - __main__ -   input_ids: 101 1006 1009 1007 2566 6522 2072 1006 1011 1007 23439 10720 2015 1010 2305 7518 2015 1010 3522 3635 3279 2030 5114 1012 23439 14978 1010 8254 2271 24605 1010 24091 12171 20192 2030 20176 1012 6380 19340 1010 2460 2791 1997 3052 1012 8138 3108 3778 1010 2021 23439 4389 2791 1010 14412 23270 10708 1012 6380 19029 1010 24780 1010 22939 12171 20192 1010 9530 16643 24952 2239 2030 21419 3255 1012 1996 13866 3090 2009 2165 2014 1017 1011 1018 2781 2000 17820 24471 12758 2651 1999 1996 4292 1997 3445 21419 3255 1012 23439 1040 7274 27703 1012 6223 21030 2102 2951 2004 1997 2340 1024 2654 7610 8995 5751 19610 7716 18279 7712 8822 8331 5703 2484 2847 2144 2260 2572 1056 17848 1024 1021 1039 1006 1023 22975 29264 1024 1021 1039 1006 1023 17850 1024 13412 1006 10114 1011 13412 1007 17531 2213 17531 1024 13285 1013 6282 1006 3938 1007 1063 12567 1013 5824 1006 6640 1007 1011 14506 1013 6282 1006 3938 1007 1065 3461 25619 25269 1024 2656 1006 2484 1011 2756 1007 16021 2361 1013 8117 11867 2080 2475 1024 5989 1003 2540 6348 1024 2358 1006 8254 2271 11937 11714 11522 2401 1007 4578 1024 4185 4960 2561 1999 1024 1020 1010 2199 19875 13433 1024 1056 2546 1024 4921 2546 1024 1016 1010 2199 19875 2668 3688 1024 2561 2041 1024 1014 19875 3770 19875 17996 1024 3770 19875 12835 1024 14708 1024 18916 1024 5703 1024 1014 19875 1019 1010 6227 2692 19875 16464 1051 2475 6959 5080 1024 3904 11867 2080 2475 1024 5989 1003 3558 7749 2236 1024 9499 1010 8048 1010 23233 2043 4688 2145 18235 3372 1024 4318 25391 1010 2566 12190 2050 1010 1041 20936 3300 1024 10514 9397 2571 1010 1046 2615 2361 1020 1011 1021 27487 1010 2053 14804 8948 1024 3154 2000 17151 10841 24458 3508 17758 2135 1010 2053 1059 21030 11254 1010 10958 4244 1010 6902 5428 26226 1024 11937 11714 11522 2594 1010 3671 1055 2487 1009 1055 2475 1010 2053 22888 1010 28860 1010 25624 4523 13878 1024 3813 1010 28105 2135 8616 1010 2512 1011 4487 16173 5732 1010 1044 22571 10441 15277 6812 2884 4165 2556 1012 1009 17019 1012 24605 2000 14412 24952 2239 1028 27755 1012 4654 2102 1024 4010 1012 1016 1009 23894 1010 2053 2252 10472 1010 22330 6761 6190 2030 3968 14545 13625 1013 2557 6483 13625 1024 1015 1028 1020 1026 6353 2629 2321 1003 2316 17577 6583 8574 1010 1047 1021 18856 9402 1010 16731 2080 2509 9402 1010 21122 2184 1010 13675 1022 1010 1043 7630 2278 10630 1048 6199 2015 3671 18749 12259 1023 14931 13594 1006 4954 3191 1007 1024 2489 8331 2105 11290 1010 28105 2235 6812 2884 1999 10258 3286 2863 14841 2239 1010 22480 1016 2595 2549 4642 3074 1999 21877 28530 2007 10306 1997 2489 2250 1010 2033 5054 3334 2594 1999 13109 3286 28649 7667 1998 2933 2861 2546 2182 2007 2146 1011 3061 25416 22648 7062 102\n",
            "11/07/2021 00:30:49 - INFO - __main__ -   input_mask: 1 1 1 1 1 1 1 1 1 1 1 1 1 1 1 1 1 1 1 1 1 1 1 1 1 1 1 1 1 1 1 1 1 1 1 1 1 1 1 1 1 1 1 1 1 1 1 1 1 1 1 1 1 1 1 1 1 1 1 1 1 1 1 1 1 1 1 1 1 1 1 1 1 1 1 1 1 1 1 1 1 1 1 1 1 1 1 1 1 1 1 1 1 1 1 1 1 1 1 1 1 1 1 1 1 1 1 1 1 1 1 1 1 1 1 1 1 1 1 1 1 1 1 1 1 1 1 1 1 1 1 1 1 1 1 1 1 1 1 1 1 1 1 1 1 1 1 1 1 1 1 1 1 1 1 1 1 1 1 1 1 1 1 1 1 1 1 1 1 1 1 1 1 1 1 1 1 1 1 1 1 1 1 1 1 1 1 1 1 1 1 1 1 1 1 1 1 1 1 1 1 1 1 1 1 1 1 1 1 1 1 1 1 1 1 1 1 1 1 1 1 1 1 1 1 1 1 1 1 1 1 1 1 1 1 1 1 1 1 1 1 1 1 1 1 1 1 1 1 1 1 1 1 1 1 1 1 1 1 1 1 1 1 1 1 1 1 1 1 1 1 1 1 1 1 1 1 1 1 1 1 1 1 1 1 1 1 1 1 1 1 1 1 1 1 1 1 1 1 1 1 1 1 1 1 1 1 1 1 1 1 1 1 1 1 1 1 1 1 1 1 1 1 1 1 1 1 1 1 1 1 1 1 1 1 1 1 1 1 1 1 1 1 1 1 1 1 1 1 1 1 1 1 1 1 1 1 1 1 1 1 1 1 1 1 1 1 1 1 1 1 1 1 1 1 1 1 1 1 1 1 1 1 1 1 1 1 1 1 1 1 1 1 1 1 1 1 1 1 1 1 1 1 1 1 1 1 1 1 1 1 1 1 1 1 1 1 1 1 1 1 1 1 1 1 1 1 1 1 1 1 1 1 1 1 1 1 1 1 1 1 1 1 1 1 1 1 1 1 1 1 1 1 1 1 1 1 1 1 1 1 1 1 1 1 1 1 1 1 1 1 1 1 1 1 1 1 1 1 1 1 1 1 1 1 1 1 1 1 1 1 1 1 1 1 1 1 1 1 1 1 1 1 1 1 1 1 1 1 1 1 1\n",
            "11/07/2021 00:30:49 - INFO - __main__ -   segment_ids: 0 0 0 0 0 0 0 0 0 0 0 0 0 0 0 0 0 0 0 0 0 0 0 0 0 0 0 0 0 0 0 0 0 0 0 0 0 0 0 0 0 0 0 0 0 0 0 0 0 0 0 0 0 0 0 0 0 0 0 0 0 0 0 0 0 0 0 0 0 0 0 0 0 0 0 0 0 0 0 0 0 0 0 0 0 0 0 0 0 0 0 0 0 0 0 0 0 0 0 0 0 0 0 0 0 0 0 0 0 0 0 0 0 0 0 0 0 0 0 0 0 0 0 0 0 0 0 0 0 0 0 0 0 0 0 0 0 0 0 0 0 0 0 0 0 0 0 0 0 0 0 0 0 0 0 0 0 0 0 0 0 0 0 0 0 0 0 0 0 0 0 0 0 0 0 0 0 0 0 0 0 0 0 0 0 0 0 0 0 0 0 0 0 0 0 0 0 0 0 0 0 0 0 0 0 0 0 0 0 0 0 0 0 0 0 0 0 0 0 0 0 0 0 0 0 0 0 0 0 0 0 0 0 0 0 0 0 0 0 0 0 0 0 0 0 0 0 0 0 0 0 0 0 0 0 0 0 0 0 0 0 0 0 0 0 0 0 0 0 0 0 0 0 0 0 0 0 0 0 0 0 0 0 0 0 0 0 0 0 0 0 0 0 0 0 0 0 0 0 0 0 0 0 0 0 0 0 0 0 0 0 0 0 0 0 0 0 0 0 0 0 0 0 0 0 0 0 0 0 0 0 0 0 0 0 0 0 0 0 0 0 0 0 0 0 0 0 0 0 0 0 0 0 0 0 0 0 0 0 0 0 0 0 0 0 0 0 0 0 0 0 0 0 0 0 0 0 0 0 0 0 0 0 0 0 0 0 0 0 0 0 0 0 0 0 0 0 0 0 0 0 0 0 0 0 0 0 0 0 0 0 0 0 0 0 0 0 0 0 0 0 0 0 0 0 0 0 0 0 0 0 0 0 0 0 0 0 0 0 0 0 0 0 0 0 0 0 0 0 0 0 0 0 0 0 0 0 0 0 0 0 0 0 0 0 0 0 0 0 0 0 0 0 0 0 0 0 0 0 0 0 0 0 0 0 0 0 0 0 0 0 0 0 0 0 0 0 0 0 0 0 0 0 0 0 0 0 0 0 0 0 0\n",
            "11/07/2021 00:30:49 - INFO - __main__ -   label: 1 (id = 1)\n",
            "11/07/2021 00:30:49 - INFO - __main__ -   *** Example ***\n",
            "11/07/2021 00:30:49 - INFO - __main__ -   guid: test-4\n",
            "11/07/2021 00:30:49 - INFO - __main__ -   tokens: [CLS] ste ##roid use ) . evaluated by surgery in ed and upon admission to . received iv van ##com ##y ##cin / z ##os ##yn . per gi to continue h ##yd ##rco ##rti ##son ##e 100 mg q ##dai ##ly . ng ##t placed . foley in place . - st ##ic ##t np ##o - serial abdominal exam - con ##t van ##c / z ##os ##yn - con ##t hydro ##cor ##tis ##one 100 ##mg daily - pt currently with pi ##v ##x ##1 , ta ##chy ##card ##ic norm ##ote ##ns ##ive . will add 2nd with low threshold for cv ##l ( ri ##j ) overnight . pt s / p 4 ##l , will continue to bo ##lus ns until pt clinical ##ly eu ##vo ##lem ##ic . - if worse ##ns overnight , will call moonlight ##er , potential or - mor ##phine 2 - 4 ##mg iv pr ##n abdominal pain , ti ##tra ##ting up pr ##n . # sin ##us ta ##chy ##card ##ia : in the setting of intra ##vas ##cular de ##ple ##tion , cr ##oh ##ns flare , abdominal pain . - con ##t aggressive iv ##f res ##us ##cit ##ation - pain control with mor ##phine 2 - 4 ##mg iv pr ##n - con ##t broad spectrum ab ##x . # cloudy urine : in setting of intra ##vas ##cular de ##ple ##tion although one cannot rule out potential et ##iol ##og ##ies such as enter ##o - ve ##sic ##ular abc ##ess . - rec ##he ##ck u / a - fluid res ##us ##cit ##ation - f / u ct abd final read . # fen : iv ##f , rep ##lete electro ##ly ##tes , np ##o . # prop ##hyl ##ax ##is : sub ##cut ##aneous he ##par ##in . # access : , place 2nd with very low threshold to place cv ##l . # full code . # communication : patient . # disposition : 11 : 48 am acute abd series ( views of abd & sg ##l chest view ) clip # reason : assess for p ##ne ##um ##oper ##ito ##ne ##um medical condition : 31 year old woman with cr ##oh ##ns di ##ses ##e w / severe abd pain and tenderness reason for this examination : assess for p ##ne ##um ##oper ##ito ##ne ##um final report abdominal series acute radio ##graphs . radio ##graph , and su ##pine and erect abdominal radio ##graphs . comparison : ct abdomen and pe ##lvis . findings : chest radio ##graph : lungs are clear . there is no airspace op ##ac ##ification . there is no pl ##eur ##al e ##ff ##usion . there is no p ##ne ##um ##otho ##ra ##x . hi ##lar , media ##sti ##nal , and cardiac silhouette ##s are within normal limits . abdominal radio ##graph : non - ob ##st ##ru ##ctive bow ##el gas pattern . no definite evidence of free air . impression : un ##rem ##ark [SEP]\n",
            "11/07/2021 00:30:49 - INFO - __main__ -   input_ids: 101 26261 22943 2224 1007 1012 16330 2011 5970 1999 3968 1998 2588 9634 2000 1012 2363 4921 3158 9006 2100 15459 1013 1062 2891 6038 1012 2566 21025 2000 3613 1044 25688 29566 28228 3385 2063 2531 11460 1053 21351 2135 1012 12835 2102 2872 1012 17106 1999 2173 1012 1011 2358 2594 2102 27937 2080 1011 7642 21419 11360 1011 9530 2102 3158 2278 1013 1062 2891 6038 1011 9530 2102 18479 27108 7315 5643 2531 24798 3679 1011 13866 2747 2007 14255 2615 2595 2487 1010 11937 11714 11522 2594 13373 12184 3619 3512 1012 2097 5587 3416 2007 2659 11207 2005 26226 2140 1006 15544 3501 1007 11585 1012 13866 1055 1013 1052 1018 2140 1010 2097 3613 2000 8945 7393 24978 2127 13866 6612 2135 7327 6767 16930 2594 1012 1011 2065 4788 3619 11585 1010 2097 2655 11986 2121 1010 4022 2030 1011 22822 20738 1016 1011 1018 24798 4921 10975 2078 21419 3255 1010 14841 6494 3436 2039 10975 2078 1012 1001 8254 2271 11937 11714 11522 2401 1024 1999 1996 4292 1997 26721 12044 15431 2139 10814 3508 1010 13675 11631 3619 17748 1010 21419 3255 1012 1011 9530 2102 9376 4921 2546 24501 2271 26243 3370 1011 3255 2491 2007 22822 20738 1016 1011 1018 24798 4921 10975 2078 1011 9530 2102 5041 8674 11113 2595 1012 1001 24706 17996 1024 1999 4292 1997 26721 12044 15431 2139 10814 3508 2348 2028 3685 3627 2041 4022 3802 20282 8649 3111 2107 2004 4607 2080 1011 2310 19570 7934 5925 7971 1012 1011 28667 5369 3600 1057 1013 1037 1011 8331 24501 2271 26243 3370 1011 1042 1013 1057 14931 19935 2345 3191 1012 1001 21713 1024 4921 2546 1010 16360 25890 16175 2135 4570 1010 27937 2080 1012 1001 17678 29598 8528 2483 1024 4942 12690 17191 2002 19362 2378 1012 1001 3229 1024 1010 2173 3416 2007 2200 2659 11207 2000 2173 26226 2140 1012 1001 2440 3642 1012 1001 4807 1024 5776 1012 1001 22137 1024 2340 1024 4466 2572 11325 19935 2186 1006 5328 1997 19935 1004 22214 2140 3108 3193 1007 12528 1001 3114 1024 14358 2005 1052 2638 2819 25918 9956 2638 2819 2966 4650 1024 2861 2095 2214 2450 2007 13675 11631 3619 4487 8583 2063 1059 1013 5729 19935 3255 1998 24605 3114 2005 2023 7749 1024 14358 2005 1052 2638 2819 25918 9956 2638 2819 2345 3189 21419 2186 11325 2557 27341 1012 2557 14413 1010 1998 10514 19265 1998 14908 21419 2557 27341 1012 7831 1024 14931 13878 1998 21877 28530 1012 9556 1024 3108 2557 14413 1024 8948 2024 3154 1012 2045 2003 2053 29357 6728 6305 9031 1012 2045 2003 2053 20228 11236 2389 1041 4246 14499 1012 2045 2003 2053 1052 2638 2819 29288 2527 2595 1012 7632 8017 1010 2865 16643 12032 1010 1998 15050 21776 2015 2024 2306 3671 6537 1012 21419 2557 14413 1024 2512 1011 27885 3367 6820 15277 6812 2884 3806 5418 1012 2053 15298 3350 1997 2489 2250 1012 8605 1024 4895 28578 17007 102\n",
            "11/07/2021 00:30:49 - INFO - __main__ -   input_mask: 1 1 1 1 1 1 1 1 1 1 1 1 1 1 1 1 1 1 1 1 1 1 1 1 1 1 1 1 1 1 1 1 1 1 1 1 1 1 1 1 1 1 1 1 1 1 1 1 1 1 1 1 1 1 1 1 1 1 1 1 1 1 1 1 1 1 1 1 1 1 1 1 1 1 1 1 1 1 1 1 1 1 1 1 1 1 1 1 1 1 1 1 1 1 1 1 1 1 1 1 1 1 1 1 1 1 1 1 1 1 1 1 1 1 1 1 1 1 1 1 1 1 1 1 1 1 1 1 1 1 1 1 1 1 1 1 1 1 1 1 1 1 1 1 1 1 1 1 1 1 1 1 1 1 1 1 1 1 1 1 1 1 1 1 1 1 1 1 1 1 1 1 1 1 1 1 1 1 1 1 1 1 1 1 1 1 1 1 1 1 1 1 1 1 1 1 1 1 1 1 1 1 1 1 1 1 1 1 1 1 1 1 1 1 1 1 1 1 1 1 1 1 1 1 1 1 1 1 1 1 1 1 1 1 1 1 1 1 1 1 1 1 1 1 1 1 1 1 1 1 1 1 1 1 1 1 1 1 1 1 1 1 1 1 1 1 1 1 1 1 1 1 1 1 1 1 1 1 1 1 1 1 1 1 1 1 1 1 1 1 1 1 1 1 1 1 1 1 1 1 1 1 1 1 1 1 1 1 1 1 1 1 1 1 1 1 1 1 1 1 1 1 1 1 1 1 1 1 1 1 1 1 1 1 1 1 1 1 1 1 1 1 1 1 1 1 1 1 1 1 1 1 1 1 1 1 1 1 1 1 1 1 1 1 1 1 1 1 1 1 1 1 1 1 1 1 1 1 1 1 1 1 1 1 1 1 1 1 1 1 1 1 1 1 1 1 1 1 1 1 1 1 1 1 1 1 1 1 1 1 1 1 1 1 1 1 1 1 1 1 1 1 1 1 1 1 1 1 1 1 1 1 1 1 1 1 1 1 1 1 1 1 1 1 1 1 1 1 1 1 1 1 1 1 1 1 1 1 1 1 1 1 1 1 1 1 1 1 1 1 1 1 1 1 1 1 1 1 1 1 1 1 1 1 1 1 1 1 1 1 1 1 1 1 1 1 1 1 1 1 1 1 1 1 1 1 1 1 1 1 1 1\n",
            "11/07/2021 00:30:49 - INFO - __main__ -   segment_ids: 0 0 0 0 0 0 0 0 0 0 0 0 0 0 0 0 0 0 0 0 0 0 0 0 0 0 0 0 0 0 0 0 0 0 0 0 0 0 0 0 0 0 0 0 0 0 0 0 0 0 0 0 0 0 0 0 0 0 0 0 0 0 0 0 0 0 0 0 0 0 0 0 0 0 0 0 0 0 0 0 0 0 0 0 0 0 0 0 0 0 0 0 0 0 0 0 0 0 0 0 0 0 0 0 0 0 0 0 0 0 0 0 0 0 0 0 0 0 0 0 0 0 0 0 0 0 0 0 0 0 0 0 0 0 0 0 0 0 0 0 0 0 0 0 0 0 0 0 0 0 0 0 0 0 0 0 0 0 0 0 0 0 0 0 0 0 0 0 0 0 0 0 0 0 0 0 0 0 0 0 0 0 0 0 0 0 0 0 0 0 0 0 0 0 0 0 0 0 0 0 0 0 0 0 0 0 0 0 0 0 0 0 0 0 0 0 0 0 0 0 0 0 0 0 0 0 0 0 0 0 0 0 0 0 0 0 0 0 0 0 0 0 0 0 0 0 0 0 0 0 0 0 0 0 0 0 0 0 0 0 0 0 0 0 0 0 0 0 0 0 0 0 0 0 0 0 0 0 0 0 0 0 0 0 0 0 0 0 0 0 0 0 0 0 0 0 0 0 0 0 0 0 0 0 0 0 0 0 0 0 0 0 0 0 0 0 0 0 0 0 0 0 0 0 0 0 0 0 0 0 0 0 0 0 0 0 0 0 0 0 0 0 0 0 0 0 0 0 0 0 0 0 0 0 0 0 0 0 0 0 0 0 0 0 0 0 0 0 0 0 0 0 0 0 0 0 0 0 0 0 0 0 0 0 0 0 0 0 0 0 0 0 0 0 0 0 0 0 0 0 0 0 0 0 0 0 0 0 0 0 0 0 0 0 0 0 0 0 0 0 0 0 0 0 0 0 0 0 0 0 0 0 0 0 0 0 0 0 0 0 0 0 0 0 0 0 0 0 0 0 0 0 0 0 0 0 0 0 0 0 0 0 0 0 0 0 0 0 0 0 0 0 0 0 0 0 0 0 0 0 0 0 0 0 0 0 0 0 0 0 0 0 0 0 0 0 0 0 0 0 0 0 0 0 0 0 0 0 0 0 0 0\n",
            "11/07/2021 00:30:49 - INFO - __main__ -   label: 1 (id = 1)\n",
            "11/07/2021 00:31:26 - INFO - __main__ -   ***** Running evaluation *****\n",
            "11/07/2021 00:31:26 - INFO - __main__ -     Num examples = 5774\n",
            "11/07/2021 00:31:26 - INFO - __main__ -     Batch size = 2\n",
            " 90% 2591/2887 [5:37:09<38:15,  7.76s/it]"
          ]
        }
      ]
    },
    {
      "cell_type": "markdown",
      "metadata": {
        "id": "84M9vYxVYKiK"
      },
      "source": [
        "## Preprocess"
      ]
    },
    {
      "cell_type": "code",
      "metadata": {
        "id": "qkGCtmIbXGuP"
      },
      "source": [
        "adm = pd.read_csv('/content/sample_data/ADMISSIONS.csv')\n",
        "\n",
        "adm = adm.sort_values(['SUBJECT_ID','ADMITTIME'])\n",
        "adm = adm.reset_index(drop = True)\n",
        "adm['NEXT_ADMITTIME'] = adm.groupby('SUBJECT_ID').ADMITTIME.shift(-1)\n",
        "\n",
        "adm['NEXT_ADMISSION_TYPE'] = adm.groupby('SUBJECT_ID').ADMISSION_TYPE.shift(-1)\n",
        "rows = adm.NEXT_ADMISSION_TYPE == 'ELECTIVE' #elective are unplanned admissions\n",
        "adm.loc[rows,'NEXT_ADMITTIME'] = pd.NaT\n",
        "adm.loc[rows,'NEXT_ADMISSION_TYPE'] = np.NaN\n",
        "adm = adm.sort_values(['SUBJECT_ID','ADMITTIME'])\n",
        "\n",
        "adm[['NEXT_ADMITTIME','NEXT_ADMISSION_TYPE']] = adm.groupby(['SUBJECT_ID'])[['NEXT_ADMITTIME','NEXT_ADMISSION_TYPE']].fillna(method = 'bfill')\n",
        "adm['DAYS_NEXT_ADMIT']=  (adm.NEXT_ADMITTIME - adm.DISCHTIME).dt.total_seconds()/(24*60*60)\n",
        "\n",
        "notes = pd.read_csv(\"/content/drive/MyDrive/NOTEEVENTS.csv\")\n",
        "\n",
        "notes_dis_sum = notes.loc[df_notes.CATEGORY == 'Discharge summary']\n",
        "notes_dis_sum_last = (notes_dis_sum.groupby(['SUBJECT_ID','HADM_ID']).nth(-1)).reset_index()\n",
        "\n",
        "adm_notes = pd.merge(adm[['SUBJECT_ID','HADM_ID','ADMITTIME','DISCHTIME','DAYS_NEXT_ADMIT','NEXT_ADMITTIME','ADMISSION_TYPE','DEATHTIME']],\n",
        "                        notes_dis_sum_last[['SUBJECT_ID','HADM_ID','TEXT']], \n",
        "                        on = ['SUBJECT_ID','HADM_ID'],\n",
        "                        how = 'left')\n",
        "\n",
        "adm_notes.groupby('ADMISSION_TYPE').apply(lambda g: g.TEXT.isnull().sum())/adm_notes.groupby('ADMISSION_TYPE').size()\n",
        "clean = adm_notes.loc[adm_notes.ADMISSION_TYPE != 'NEWBORN'].copy()\n",
        "clean['OUTPUT_LABEL'] = (clean.DAYS_NEXT_ADMIT < 30).astype('int')"
      ],
      "execution_count": null,
      "outputs": []
    },
    {
      "cell_type": "markdown",
      "metadata": {
        "id": "cqM0-HiCaA3F"
      },
      "source": [
        "model"
      ]
    }
  ]
}