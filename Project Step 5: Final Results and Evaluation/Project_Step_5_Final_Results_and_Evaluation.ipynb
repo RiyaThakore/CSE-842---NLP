{
  "nbformat": 4,
  "nbformat_minor": 0,
  "metadata": {
    "colab": {
      "name": "Project Step 5:Final Results and Evaluation.ipynb",
      "provenance": []
    },
    "kernelspec": {
      "name": "python3",
      "display_name": "Python 3"
    },
    "language_info": {
      "name": "python"
    }
  },
  "cells": [
    {
      "cell_type": "code",
      "metadata": {
        "colab": {
          "base_uri": "https://localhost:8080/"
        },
        "id": "5PhiGP_agsYL",
        "outputId": "40fe4d00-1a10-4d93-a01d-a39a9eb033bc"
      },
      "source": [
        "from google.colab import drive\n",
        "drive.mount('/content/drive')"
      ],
      "execution_count": null,
      "outputs": [
        {
          "output_type": "stream",
          "name": "stdout",
          "text": [
            "Mounted at /content/drive\n"
          ]
        }
      ]
    },
    {
      "cell_type": "code",
      "metadata": {
        "colab": {
          "base_uri": "https://localhost:8080/"
        },
        "id": "l7uoCOGuhHzl",
        "outputId": "c0a834e1-37a1-4c17-a0f8-436902d8ab2b"
      },
      "source": [
        "import pandas as pd\n",
        "import numpy as np\n",
        "import matplotlib.pyplot as plt\n",
        "import nltk\n",
        "nltk.download('punkt')\n",
        "from nltk import word_tokenize\n",
        "import string\n",
        "from sklearn.feature_extraction.text import CountVectorizer\n",
        "from sklearn.linear_model import LogisticRegression\n",
        "from sklearn.metrics import roc_curve, roc_auc_score, accuracy_score, recall_score, precision_score\n",
        "from sklearn.metrics import roc_auc_score\n",
        "%matplotlib notebook"
      ],
      "execution_count": null,
      "outputs": [
        {
          "output_type": "stream",
          "name": "stdout",
          "text": [
            "[nltk_data] Downloading package punkt to /root/nltk_data...\n",
            "[nltk_data]   Package punkt is already up-to-date!\n"
          ]
        }
      ]
    },
    {
      "cell_type": "code",
      "metadata": {
        "colab": {
          "base_uri": "https://localhost:8080/",
          "height": 349
        },
        "id": "g239CLn8lps5",
        "outputId": "e3ed3043-e5bf-42cd-e0fd-59d0e2cf33a4"
      },
      "source": [
        "df_adm = pd.read_csv('/content/sample_data/ADMISSIONS.csv')\n",
        "df_adm.head()\n",
        "fig = plt.figure()\n",
        "df_adm.groupby(['ADMISSION_TYPE']).size().plot.bar(color = 'lightpink')"
      ],
      "execution_count": null,
      "outputs": [
        {
          "output_type": "execute_result",
          "data": {
            "text/plain": [
              "<matplotlib.axes._subplots.AxesSubplot at 0x7f5856e5b090>"
            ]
          },
          "metadata": {},
          "execution_count": 6
        },
        {
          "output_type": "display_data",
          "data": {
            "image/png": "[encoded data removed]",
            "text/plain": [
              "<Figure size 432x288 with 1 Axes>"
            ]
          },
          "metadata": {
            "needs_background": "light"
          }
        }
      ]
    },
    {
      "cell_type": "code",
      "metadata": {
        "colab": {
          "base_uri": "https://localhost:8080/",
          "height": 142
        },
        "id": "1eQOm-0-ji6c",
        "outputId": "c69fa0c7-f302-4111-9d4b-1f37bf27f340"
      },
      "source": [
        "df_adm.ADMITTIME = pd.to_datetime(df_adm.ADMITTIME, format = '%Y-%m-%d %H:%M:%S')\n",
        "df_adm.DISCHTIME = pd.to_datetime(df_adm.DISCHTIME, format = '%Y-%m-%d %H:%M:%S')\n",
        "df_adm.DEATHTIME = pd.to_datetime(df_adm.DEATHTIME, format = '%Y-%m-%d %H:%M:%S')\n",
        "df_adm = df_adm.sort_values(['SUBJECT_ID','ADMITTIME'])\n",
        "df_adm = df_adm.reset_index(drop = True)\n",
        "df_adm.loc[df_adm.SUBJECT_ID == 801, ['SUBJECT_ID','ADMITTIME','ADMISSION_TYPE']]\n",
        "df_adm['NEXT_ADMITTIME'] = df_adm.groupby('SUBJECT_ID').ADMITTIME.shift(-1)\n",
        "df_adm['NEXT_ADMISSION_TYPE'] = df_adm.groupby('SUBJECT_ID').ADMISSION_TYPE.shift(-1)\n",
        "df_adm.loc[df_adm.SUBJECT_ID == 801,['SUBJECT_ID','ADMITTIME','ADMISSION_TYPE','NEXT_ADMITTIME','NEXT_ADMISSION_TYPE']]"
      ],
      "execution_count": null,
      "outputs": [
        {
          "output_type": "execute_result",
          "data": {
            "text/html": [
              "<div>\n",
              "<style scoped>\n",
              "    .dataframe tbody tr th:only-of-type {\n",
              "        vertical-align: middle;\n",
              "    }\n",
              "\n",
              "    .dataframe tbody tr th {\n",
              "        vertical-align: top;\n",
              "    }\n",
              "\n",
              "    .dataframe thead th {\n",
              "        text-align: right;\n",
              "    }\n",
              "</style>\n",
              "<table border=\"1\" class=\"dataframe\">\n",
              "  <thead>\n",
              "    <tr style=\"text-align: right;\">\n",
              "      <th></th>\n",
              "      <th>SUBJECT_ID</th>\n",
              "      <th>ADMITTIME</th>\n",
              "      <th>ADMISSION_TYPE</th>\n",
              "      <th>NEXT_ADMITTIME</th>\n",
              "      <th>NEXT_ADMISSION_TYPE</th>\n",
              "    </tr>\n",
              "  </thead>\n",
              "  <tbody>\n",
              "    <tr>\n",
              "      <th>987</th>\n",
              "      <td>801</td>\n",
              "      <td>2197-06-19 19:47:00</td>\n",
              "      <td>EMERGENCY</td>\n",
              "      <td>2197-08-09 21:00:00</td>\n",
              "      <td>EMERGENCY</td>\n",
              "    </tr>\n",
              "    <tr>\n",
              "      <th>988</th>\n",
              "      <td>801</td>\n",
              "      <td>2197-08-09 21:00:00</td>\n",
              "      <td>EMERGENCY</td>\n",
              "      <td>2198-07-09 23:22:00</td>\n",
              "      <td>EMERGENCY</td>\n",
              "    </tr>\n",
              "    <tr>\n",
              "      <th>989</th>\n",
              "      <td>801</td>\n",
              "      <td>2198-07-09 23:22:00</td>\n",
              "      <td>EMERGENCY</td>\n",
              "      <td>NaT</td>\n",
              "      <td>NaN</td>\n",
              "    </tr>\n",
              "  </tbody>\n",
              "</table>\n",
              "</div>"
            ],
            "text/plain": [
              "     SUBJECT_ID           ADMITTIME  ...      NEXT_ADMITTIME NEXT_ADMISSION_TYPE\n",
              "987         801 2197-06-19 19:47:00  ... 2197-08-09 21:00:00           EMERGENCY\n",
              "988         801 2197-08-09 21:00:00  ... 2198-07-09 23:22:00           EMERGENCY\n",
              "989         801 2198-07-09 23:22:00  ...                 NaT                 NaN\n",
              "\n",
              "[3 rows x 5 columns]"
            ]
          },
          "metadata": {},
          "execution_count": 7
        }
      ]
    },
    {
      "cell_type": "code",
      "metadata": {
        "colab": {
          "base_uri": "https://localhost:8080/",
          "height": 142
        },
        "id": "4purlGIKluG2",
        "outputId": "3d87baf5-65dc-4c5b-fc77-2137c8566706"
      },
      "source": [
        "rows = df_adm.NEXT_ADMISSION_TYPE == 'ELECTIVE'\n",
        "df_adm.loc[rows,'NEXT_ADMITTIME'] = pd.NaT\n",
        "df_adm.loc[rows,'NEXT_ADMISSION_TYPE'] = np.NaN\n",
        "df_adm.loc[df_adm.SUBJECT_ID == 801,['SUBJECT_ID','ADMITTIME','ADMISSION_TYPE','NEXT_ADMITTIME','NEXT_ADMISSION_TYPE']]\n"
      ],
      "execution_count": null,
      "outputs": [
        {
          "output_type": "execute_result",
          "data": {
            "text/html": [
              "<div>\n",
              "<style scoped>\n",
              "    .dataframe tbody tr th:only-of-type {\n",
              "        vertical-align: middle;\n",
              "    }\n",
              "\n",
              "    .dataframe tbody tr th {\n",
              "        vertical-align: top;\n",
              "    }\n",
              "\n",
              "    .dataframe thead th {\n",
              "        text-align: right;\n",
              "    }\n",
              "</style>\n",
              "<table border=\"1\" class=\"dataframe\">\n",
              "  <thead>\n",
              "    <tr style=\"text-align: right;\">\n",
              "      <th></th>\n",
              "      <th>SUBJECT_ID</th>\n",
              "      <th>ADMITTIME</th>\n",
              "      <th>ADMISSION_TYPE</th>\n",
              "      <th>NEXT_ADMITTIME</th>\n",
              "      <th>NEXT_ADMISSION_TYPE</th>\n",
              "    </tr>\n",
              "  </thead>\n",
              "  <tbody>\n",
              "    <tr>\n",
              "      <th>987</th>\n",
              "      <td>801</td>\n",
              "      <td>2197-06-19 19:47:00</td>\n",
              "      <td>EMERGENCY</td>\n",
              "      <td>2197-08-09 21:00:00</td>\n",
              "      <td>EMERGENCY</td>\n",
              "    </tr>\n",
              "    <tr>\n",
              "      <th>988</th>\n",
              "      <td>801</td>\n",
              "      <td>2197-08-09 21:00:00</td>\n",
              "      <td>EMERGENCY</td>\n",
              "      <td>2198-07-09 23:22:00</td>\n",
              "      <td>EMERGENCY</td>\n",
              "    </tr>\n",
              "    <tr>\n",
              "      <th>989</th>\n",
              "      <td>801</td>\n",
              "      <td>2198-07-09 23:22:00</td>\n",
              "      <td>EMERGENCY</td>\n",
              "      <td>NaT</td>\n",
              "      <td>NaN</td>\n",
              "    </tr>\n",
              "  </tbody>\n",
              "</table>\n",
              "</div>"
            ],
            "text/plain": [
              "     SUBJECT_ID           ADMITTIME  ...      NEXT_ADMITTIME NEXT_ADMISSION_TYPE\n",
              "987         801 2197-06-19 19:47:00  ... 2197-08-09 21:00:00           EMERGENCY\n",
              "988         801 2197-08-09 21:00:00  ... 2198-07-09 23:22:00           EMERGENCY\n",
              "989         801 2198-07-09 23:22:00  ...                 NaT                 NaN\n",
              "\n",
              "[3 rows x 5 columns]"
            ]
          },
          "metadata": {},
          "execution_count": 8
        }
      ]
    },
    {
      "cell_type": "code",
      "metadata": {
        "colab": {
          "base_uri": "https://localhost:8080/",
          "height": 142
        },
        "id": "CnBCflXolxut",
        "outputId": "2168cb1c-3ce6-4a41-b160-7ef74f7319c6"
      },
      "source": [
        "df_adm = df_adm.sort_values(['SUBJECT_ID','ADMITTIME'])\n",
        "df_adm[['NEXT_ADMITTIME','NEXT_ADMISSION_TYPE']] = df_adm.groupby(['SUBJECT_ID'])\\\n",
        "[['NEXT_ADMITTIME','NEXT_ADMISSION_TYPE']].fillna(method = 'bfill')\n",
        "df_adm.loc[df_adm.SUBJECT_ID == 801,['SUBJECT_ID','ADMITTIME','ADMISSION_TYPE','NEXT_ADMITTIME','NEXT_ADMISSION_TYPE']]"
      ],
      "execution_count": null,
      "outputs": [
        {
          "output_type": "execute_result",
          "data": {
            "text/html": [
              "<div>\n",
              "<style scoped>\n",
              "    .dataframe tbody tr th:only-of-type {\n",
              "        vertical-align: middle;\n",
              "    }\n",
              "\n",
              "    .dataframe tbody tr th {\n",
              "        vertical-align: top;\n",
              "    }\n",
              "\n",
              "    .dataframe thead th {\n",
              "        text-align: right;\n",
              "    }\n",
              "</style>\n",
              "<table border=\"1\" class=\"dataframe\">\n",
              "  <thead>\n",
              "    <tr style=\"text-align: right;\">\n",
              "      <th></th>\n",
              "      <th>SUBJECT_ID</th>\n",
              "      <th>ADMITTIME</th>\n",
              "      <th>ADMISSION_TYPE</th>\n",
              "      <th>NEXT_ADMITTIME</th>\n",
              "      <th>NEXT_ADMISSION_TYPE</th>\n",
              "    </tr>\n",
              "  </thead>\n",
              "  <tbody>\n",
              "    <tr>\n",
              "      <th>987</th>\n",
              "      <td>801</td>\n",
              "      <td>2197-06-19 19:47:00</td>\n",
              "      <td>EMERGENCY</td>\n",
              "      <td>2197-08-09 21:00:00</td>\n",
              "      <td>EMERGENCY</td>\n",
              "    </tr>\n",
              "    <tr>\n",
              "      <th>988</th>\n",
              "      <td>801</td>\n",
              "      <td>2197-08-09 21:00:00</td>\n",
              "      <td>EMERGENCY</td>\n",
              "      <td>2198-07-09 23:22:00</td>\n",
              "      <td>EMERGENCY</td>\n",
              "    </tr>\n",
              "    <tr>\n",
              "      <th>989</th>\n",
              "      <td>801</td>\n",
              "      <td>2198-07-09 23:22:00</td>\n",
              "      <td>EMERGENCY</td>\n",
              "      <td>NaT</td>\n",
              "      <td>NaN</td>\n",
              "    </tr>\n",
              "  </tbody>\n",
              "</table>\n",
              "</div>"
            ],
            "text/plain": [
              "     SUBJECT_ID           ADMITTIME  ...      NEXT_ADMITTIME NEXT_ADMISSION_TYPE\n",
              "987         801 2197-06-19 19:47:00  ... 2197-08-09 21:00:00           EMERGENCY\n",
              "988         801 2197-08-09 21:00:00  ... 2198-07-09 23:22:00           EMERGENCY\n",
              "989         801 2198-07-09 23:22:00  ...                 NaT                 NaN\n",
              "\n",
              "[3 rows x 5 columns]"
            ]
          },
          "metadata": {},
          "execution_count": 9
        }
      ]
    },
    {
      "cell_type": "code",
      "metadata": {
        "colab": {
          "base_uri": "https://localhost:8080/",
          "height": 279
        },
        "id": "nbCHIJ4fmto4",
        "outputId": "667d8bf9-eb13-48d0-e28e-d0ed074fdecf"
      },
      "source": [
        "\n",
        "fig = plt.figure() \n",
        "df_adm['DAYS_NEXT_ADMIT']=  (df_adm.NEXT_ADMITTIME - df_adm.DISCHTIME).dt.total_seconds()/(24*60*60)\n",
        "plt.hist(df_adm.loc[~df_adm.DAYS_NEXT_ADMIT.isnull(),'DAYS_NEXT_ADMIT'], bins = range(0,365,30), color = 'cyan')\n",
        "plt.xlim([0,365])\n",
        "plt.xlabel('Days between different admissions')\n",
        "plt.ylabel('Number')\n",
        "plt.show()"
      ],
      "execution_count": null,
      "outputs": [
        {
          "output_type": "display_data",
          "data": {
            "image/png": "[encoded data removed]",
            "text/plain": [
              "<Figure size 432x288 with 1 Axes>"
            ]
          },
          "metadata": {
            "needs_background": "light"
          }
        }
      ]
    },
    {
      "cell_type": "code",
      "metadata": {
        "colab": {
          "base_uri": "https://localhost:8080/",
          "height": 441
        },
        "id": "8MpVW5tSl1_D",
        "outputId": "06998df8-4664-4b13-917c-abdd21278bb3"
      },
      "source": [
        "df_notes = pd.read_csv(\"/content/drive/MyDrive/NOTEEVENTS.csv\")\n",
        "df_notes.CATEGORY.unique()\n",
        "fig = plt.figure() \n",
        "df_notes.groupby(['CATEGORY']).size().plot.bar(color = 'blue')"
      ],
      "execution_count": null,
      "outputs": [
        {
          "output_type": "stream",
          "name": "stderr",
          "text": [
            "/usr/local/lib/python3.7/dist-packages/IPython/core/interactiveshell.py:2718: DtypeWarning: Columns (4,5) have mixed types.Specify dtype option on import or set low_memory=False.\n",
            "  interactivity=interactivity, compiler=compiler, result=result)\n"
          ]
        },
        {
          "output_type": "execute_result",
          "data": {
            "text/plain": [
              "<matplotlib.axes._subplots.AxesSubplot at 0x7f583d3afd10>"
            ]
          },
          "metadata": {},
          "execution_count": 10
        },
        {
          "output_type": "display_data",
          "data": {
            "image/png": "[encoded data removed]",
            "text/plain": [
              "<Figure size 432x288 with 1 Axes>"
            ]
          },
          "metadata": {
            "needs_background": "light"
          }
        }
      ]
    },
    {
      "cell_type": "code",
      "metadata": {
        "colab": {
          "base_uri": "https://localhost:8080/",
          "height": 323
        },
        "id": "anbc101GmFzy",
        "outputId": "60b97f0c-46c1-45d1-fcbb-407c865eda27"
      },
      "source": [
        "df_notes.head()"
      ],
      "execution_count": null,
      "outputs": [
        {
          "output_type": "execute_result",
          "data": {
            "text/html": [
              "<div>\n",
              "<style scoped>\n",
              "    .dataframe tbody tr th:only-of-type {\n",
              "        vertical-align: middle;\n",
              "    }\n",
              "\n",
              "    .dataframe tbody tr th {\n",
              "        vertical-align: top;\n",
              "    }\n",
              "\n",
              "    .dataframe thead th {\n",
              "        text-align: right;\n",
              "    }\n",
              "</style>\n",
              "<table border=\"1\" class=\"dataframe\">\n",
              "  <thead>\n",
              "    <tr style=\"text-align: right;\">\n",
              "      <th></th>\n",
              "      <th>ROW_ID</th>\n",
              "      <th>SUBJECT_ID</th>\n",
              "      <th>HADM_ID</th>\n",
              "      <th>CHARTDATE</th>\n",
              "      <th>CHARTTIME</th>\n",
              "      <th>STORETIME</th>\n",
              "      <th>CATEGORY</th>\n",
              "      <th>DESCRIPTION</th>\n",
              "      <th>CGID</th>\n",
              "      <th>ISERROR</th>\n",
              "      <th>TEXT</th>\n",
              "    </tr>\n",
              "  </thead>\n",
              "  <tbody>\n",
              "    <tr>\n",
              "      <th>0</th>\n",
              "      <td>174</td>\n",
              "      <td>22532</td>\n",
              "      <td>167853.0</td>\n",
              "      <td>2151-08-04</td>\n",
              "      <td>NaN</td>\n",
              "      <td>NaN</td>\n",
              "      <td>Discharge summary</td>\n",
              "      <td>Report</td>\n",
              "      <td>NaN</td>\n",
              "      <td>NaN</td>\n",
              "      <td>Admission Date:  [**2151-7-16**]       Dischar...</td>\n",
              "    </tr>\n",
              "    <tr>\n",
              "      <th>1</th>\n",
              "      <td>175</td>\n",
              "      <td>13702</td>\n",
              "      <td>107527.0</td>\n",
              "      <td>2118-06-14</td>\n",
              "      <td>NaN</td>\n",
              "      <td>NaN</td>\n",
              "      <td>Discharge summary</td>\n",
              "      <td>Report</td>\n",
              "      <td>NaN</td>\n",
              "      <td>NaN</td>\n",
              "      <td>Admission Date:  [**2118-6-2**]       Discharg...</td>\n",
              "    </tr>\n",
              "    <tr>\n",
              "      <th>2</th>\n",
              "      <td>176</td>\n",
              "      <td>13702</td>\n",
              "      <td>167118.0</td>\n",
              "      <td>2119-05-25</td>\n",
              "      <td>NaN</td>\n",
              "      <td>NaN</td>\n",
              "      <td>Discharge summary</td>\n",
              "      <td>Report</td>\n",
              "      <td>NaN</td>\n",
              "      <td>NaN</td>\n",
              "      <td>Admission Date:  [**2119-5-4**]              D...</td>\n",
              "    </tr>\n",
              "    <tr>\n",
              "      <th>3</th>\n",
              "      <td>177</td>\n",
              "      <td>13702</td>\n",
              "      <td>196489.0</td>\n",
              "      <td>2124-08-18</td>\n",
              "      <td>NaN</td>\n",
              "      <td>NaN</td>\n",
              "      <td>Discharge summary</td>\n",
              "      <td>Report</td>\n",
              "      <td>NaN</td>\n",
              "      <td>NaN</td>\n",
              "      <td>Admission Date:  [**2124-7-21**]              ...</td>\n",
              "    </tr>\n",
              "    <tr>\n",
              "      <th>4</th>\n",
              "      <td>178</td>\n",
              "      <td>26880</td>\n",
              "      <td>135453.0</td>\n",
              "      <td>2162-03-25</td>\n",
              "      <td>NaN</td>\n",
              "      <td>NaN</td>\n",
              "      <td>Discharge summary</td>\n",
              "      <td>Report</td>\n",
              "      <td>NaN</td>\n",
              "      <td>NaN</td>\n",
              "      <td>Admission Date:  [**2162-3-3**]              D...</td>\n",
              "    </tr>\n",
              "  </tbody>\n",
              "</table>\n",
              "</div>"
            ],
            "text/plain": [
              "   ROW_ID  ...                                               TEXT\n",
              "0     174  ...  Admission Date:  [**2151-7-16**]       Dischar...\n",
              "1     175  ...  Admission Date:  [**2118-6-2**]       Discharg...\n",
              "2     176  ...  Admission Date:  [**2119-5-4**]              D...\n",
              "3     177  ...  Admission Date:  [**2124-7-21**]              ...\n",
              "4     178  ...  Admission Date:  [**2162-3-3**]              D...\n",
              "\n",
              "[5 rows x 11 columns]"
            ]
          },
          "metadata": {},
          "execution_count": 11
        }
      ]
    },
    {
      "cell_type": "code",
      "metadata": {
        "id": "fRmFu-MOmM2t"
      },
      "source": [
        "df_notes_dis_sum = df_notes.loc[df_notes.CATEGORY == 'Discharge summary']\n",
        "df_notes_dis_sum_last = (df_notes_dis_sum.groupby(['SUBJECT_ID','HADM_ID']).nth(-1)).reset_index()\n",
        "df_adm_notes = pd.merge(df_adm[['SUBJECT_ID','HADM_ID','ADMITTIME','DISCHTIME','DAYS_NEXT_ADMIT','NEXT_ADMITTIME','ADMISSION_TYPE','DEATHTIME']],df_notes_dis_sum_last[['SUBJECT_ID','HADM_ID','TEXT']], on = ['SUBJECT_ID','HADM_ID'],how = 'left')\n",
        "df_adm_notes.groupby('ADMISSION_TYPE').apply(lambda g: g.TEXT.isnull().sum())/df_adm_notes.groupby('ADMISSION_TYPE').size()\n",
        "df_adm_notes_clean = df_adm_notes.loc[df_adm_notes.ADMISSION_TYPE != 'NEWBORN'].copy()"
      ],
      "execution_count": null,
      "outputs": []
    },
    {
      "cell_type": "code",
      "metadata": {
        "id": "FRab52WImcb6"
      },
      "source": [
        "df_adm_notes_clean['OUTPUT_LABEL'] = (df_adm_notes_clean.DAYS_NEXT_ADMIT < 30).astype('int')"
      ],
      "execution_count": null,
      "outputs": []
    },
    {
      "cell_type": "code",
      "metadata": {
        "colab": {
          "base_uri": "https://localhost:8080/",
          "height": 248
        },
        "id": "wTH_pSV_nD4o",
        "outputId": "9d5f890b-cb17-4afa-b6d9-63071d5868a5"
      },
      "source": [
        "fig = plt.figure()\n",
        "labels = ['Admitted again', 'Not admitted again']\n",
        "sizes = [(df_adm_notes_clean.OUTPUT_LABEL == 1).sum(), (df_adm_notes_clean.OUTPUT_LABEL == 0).sum()]\n",
        "colors = ['lightcoral', 'blue']\n",
        "explode = [0.2,0]\n",
        "plt.pie(sizes, explode=explode, labels=labels, colors=colors, autopct='%4.4f%%', shadow=False, startangle=140)\n",
        "plt.axis('equal')\n",
        "plt.show()"
      ],
      "execution_count": null,
      "outputs": [
        {
          "output_type": "display_data",
          "data": {
            "image/png": "[encoded data removed]",
            "text/plain": [
              "<Figure size 432x288 with 1 Axes>"
            ]
          },
          "metadata": {}
        }
      ]
    },
    {
      "cell_type": "code",
      "metadata": {
        "id": "0vfK2sOWnVTU"
      },
      "source": [
        "\n",
        "df_adm_notes_clean = df_adm_notes_clean.sample(n = len(df_adm_notes_clean), random_state = 42)\n",
        "df_adm_notes_clean = df_adm_notes_clean.reset_index(drop = True)\n",
        "df_valid_test=df_adm_notes_clean.sample(frac=0.30,random_state=42)\n",
        "df_test = df_valid_test.sample(frac = 0.5, random_state = 42)\n",
        "df_valid = df_valid_test.drop(df_test.index)\n",
        "df_train_all = df_adm_notes_clean.drop(df_valid_test.index)"
      ],
      "execution_count": null,
      "outputs": []
    },
    {
      "cell_type": "code",
      "metadata": {
        "id": "ZWikk2pQnjdc"
      },
      "source": [
        "df_train_all.to_csv('/content/sample_data/df_train_all.csv',index=False)\n",
        "df_valid.to_csv('/content/sample_data/df_valid.csv',index=False)\n",
        "df_test.to_csv('/content/sample_data/df_test.csv',index=False)\n",
        "df_test = pd.read_csv('/content/sample_data/df_test.csv') \n",
        "df_valid = pd.read_csv('/content/sample_data/df_valid.csv') \n",
        "df_train_all= pd.read_csv('/content/sample_data/df_train_all.csv') \n"
      ],
      "execution_count": null,
      "outputs": []
    },
    {
      "cell_type": "code",
      "metadata": {
        "id": "wDXr9aggnvhv"
      },
      "source": [
        "rows_pos = df_train_all.OUTPUT_LABEL == 1\n",
        "df_train_pos = df_train_all.loc[rows_pos]\n",
        "df_train_neg = df_train_all.loc[~rows_pos]\n",
        "n = np.min([len(df_train_pos),len(df_train_neg)])\n",
        "df_train = pd.concat([df_train_pos.sample(n = n, random_state = 42),df_train_neg.sample(n = n, random_state = 42)],axis = 0)\n",
        "df_train = df_train.sample(n = len(df_train), random_state = 42).reset_index(drop = True)\n"
      ],
      "execution_count": null,
      "outputs": []
    },
    {
      "cell_type": "code",
      "metadata": {
        "id": "lCpy07U2nxYl"
      },
      "source": [
        "df_train.to_csv('/content/sample_data/df_train.csv',index=False)\n",
        "df_train = pd.read_csv('/content/sample_data/df_train.csv')"
      ],
      "execution_count": null,
      "outputs": []
    },
    {
      "cell_type": "code",
      "metadata": {
        "id": "gLqXgkc0oKa7"
      },
      "source": [
        "def preprocess_text(df):\n",
        "    df.TEXT = df.TEXT.fillna(' ')\n",
        "    df.TEXT =df.TEXT.str.replace('\\n',' ')\n",
        "    df.TEXT =df.TEXT.str.replace('\\r',' ')\n",
        "    return df"
      ],
      "execution_count": null,
      "outputs": []
    },
    {
      "cell_type": "code",
      "metadata": {
        "id": "iMvsJKTYoQjs"
      },
      "source": [
        "df_train = preprocess_text(df_train)\n",
        "df_valid = preprocess_text(df_valid)\n",
        "df_test = preprocess_text(df_test)"
      ],
      "execution_count": null,
      "outputs": []
    },
    {
      "cell_type": "code",
      "metadata": {
        "id": "1HHpBPK4oTfG"
      },
      "source": [
        "def tokenizeAgain(text):\n",
        "    punc_list = string.punctuation+'0123456789'\n",
        "    t = str.maketrans(dict.fromkeys(punc_list, \" \"))\n",
        "    text = text.lower().translate(t)\n",
        "    tokens = word_tokenize(text)\n",
        "    return tokens"
      ],
      "execution_count": null,
      "outputs": []
    },
    {
      "cell_type": "code",
      "metadata": {
        "colab": {
          "base_uri": "https://localhost:8080/",
          "height": 413
        },
        "id": "hWYXsgR3oXi1",
        "outputId": "829dc917-0e6f-4fdf-f656-df2942c7d96c"
      },
      "source": [
        "vect = CountVectorizer(tokenizer = tokenizer_two)\n",
        "vect.fit(sample_text)\n",
        "X = vect.transform(sample_text)\n",
        "X.toarray()\n",
        "vect.get_feature_names()\n",
        "vect = CountVectorizer(max_features = 3000, tokenizer = tokenizerAgain)\n",
        "vect.fit(df_train.TEXT.values)\n",
        "neg_doc_matrix = vect.transform(df_train[df_train.OUTPUT_LABEL == 0].TEXT)\n",
        "pos_doc_matrix = vect.transform(df_train[df_train.OUTPUT_LABEL == 1].TEXT)\n",
        "neg_tf = np.sum(neg_doc_matrix,axis=0)\n",
        "pos_tf = np.sum(pos_doc_matrix,axis=0)\n",
        "neg = np.squeeze(np.asarray(neg_tf))\n",
        "pos = np.squeeze(np.asarray(pos_tf))\n",
        "term_freq_df = pd.DataFrame([neg,pos],columns=vect.get_feature_names()).transpose()\n",
        "term_freq_df.columns = ['negative', 'positive']\n",
        "term_freq_df['total'] = term_freq_df['negative'] + term_freq_df['positive']\n",
        "term_freq_df.sort_values(by='total', ascending=False).iloc[:10]"
      ],
      "execution_count": null,
      "outputs": [
        {
          "output_type": "stream",
          "name": "stderr",
          "text": [
            "/usr/local/lib/python3.7/dist-packages/sklearn/feature_extraction/text.py:507: UserWarning: The parameter 'token_pattern' will not be used since 'tokenizer' is not None'\n",
            "  warnings.warn(\"The parameter 'token_pattern' will not be used\"\n"
          ]
        },
        {
          "output_type": "execute_result",
          "data": {
            "text/html": [
              "<div>\n",
              "<style scoped>\n",
              "    .dataframe tbody tr th:only-of-type {\n",
              "        vertical-align: middle;\n",
              "    }\n",
              "\n",
              "    .dataframe tbody tr th {\n",
              "        vertical-align: top;\n",
              "    }\n",
              "\n",
              "    .dataframe thead th {\n",
              "        text-align: right;\n",
              "    }\n",
              "</style>\n",
              "<table border=\"1\" class=\"dataframe\">\n",
              "  <thead>\n",
              "    <tr style=\"text-align: right;\">\n",
              "      <th></th>\n",
              "      <th>negative</th>\n",
              "      <th>positive</th>\n",
              "      <th>total</th>\n",
              "    </tr>\n",
              "  </thead>\n",
              "  <tbody>\n",
              "    <tr>\n",
              "      <th>the</th>\n",
              "      <td>71054</td>\n",
              "      <td>76756</td>\n",
              "      <td>147810</td>\n",
              "    </tr>\n",
              "    <tr>\n",
              "      <th>and</th>\n",
              "      <td>62455</td>\n",
              "      <td>71658</td>\n",
              "      <td>134113</td>\n",
              "    </tr>\n",
              "    <tr>\n",
              "      <th>to</th>\n",
              "      <td>53226</td>\n",
              "      <td>62085</td>\n",
              "      <td>115311</td>\n",
              "    </tr>\n",
              "    <tr>\n",
              "      <th>of</th>\n",
              "      <td>51303</td>\n",
              "      <td>60491</td>\n",
              "      <td>111794</td>\n",
              "    </tr>\n",
              "    <tr>\n",
              "      <th>was</th>\n",
              "      <td>48074</td>\n",
              "      <td>53521</td>\n",
              "      <td>101595</td>\n",
              "    </tr>\n",
              "    <tr>\n",
              "      <th>with</th>\n",
              "      <td>38036</td>\n",
              "      <td>44583</td>\n",
              "      <td>82619</td>\n",
              "    </tr>\n",
              "    <tr>\n",
              "      <th>a</th>\n",
              "      <td>35428</td>\n",
              "      <td>41629</td>\n",
              "      <td>77057</td>\n",
              "    </tr>\n",
              "    <tr>\n",
              "      <th>on</th>\n",
              "      <td>32290</td>\n",
              "      <td>39765</td>\n",
              "      <td>72055</td>\n",
              "    </tr>\n",
              "    <tr>\n",
              "      <th>mg</th>\n",
              "      <td>27718</td>\n",
              "      <td>39045</td>\n",
              "      <td>66763</td>\n",
              "    </tr>\n",
              "    <tr>\n",
              "      <th>in</th>\n",
              "      <td>29567</td>\n",
              "      <td>34755</td>\n",
              "      <td>64322</td>\n",
              "    </tr>\n",
              "  </tbody>\n",
              "</table>\n",
              "</div>"
            ],
            "text/plain": [
              "      negative  positive   total\n",
              "the      71054     76756  147810\n",
              "and      62455     71658  134113\n",
              "to       53226     62085  115311\n",
              "of       51303     60491  111794\n",
              "was      48074     53521  101595\n",
              "with     38036     44583   82619\n",
              "a        35428     41629   77057\n",
              "on       32290     39765   72055\n",
              "mg       27718     39045   66763\n",
              "in       29567     34755   64322"
            ]
          },
          "metadata": {},
          "execution_count": 32
        }
      ]
    },
    {
      "cell_type": "code",
      "metadata": {
        "colab": {
          "base_uri": "https://localhost:8080/"
        },
        "id": "r2ErSVjioZmo",
        "outputId": "9e5d3a3f-9e3e-4baf-88bf-9bd8cb6000bf"
      },
      "source": [
        "vect = CountVectorizer(max_features = 4000, tokenizer = tokenizer_two, stop_words = some_stop_words)\n",
        "vect.fit(df_train.TEXT.values)\n",
        "X_train_tf = vect.transform(df_train.TEXT.values)\n",
        "X_valid_tf = vect.transform(df_valid.TEXT.values)\n",
        "y_train = df_train.OUTPUT_LABEL\n",
        "y_valid = df_valid.OUTPUT_LABEL"
      ],
      "execution_count": null,
      "outputs": [
        {
          "output_type": "stream",
          "name": "stderr",
          "text": [
            "/usr/local/lib/python3.7/dist-packages/sklearn/feature_extraction/text.py:507: UserWarning: The parameter 'token_pattern' will not be used since 'tokenizer' is not None'\n",
            "  warnings.warn(\"The parameter 'token_pattern' will not be used\"\n"
          ]
        }
      ]
    },
    {
      "cell_type": "code",
      "metadata": {
        "colab": {
          "base_uri": "https://localhost:8080/",
          "height": 483
        },
        "id": "tsm8cRkAo2-7",
        "outputId": "47b315f0-24bb-4370-a011-9f4ad6af17cd"
      },
      "source": [
        "clf = LogisticRegression(C = 0.0001, penalty = 'l2', random_state = 42)\n",
        "clf.fit(X_train_tf, y_train)\n",
        "model = clf\n",
        "y_train_preds = model.predict_proba(X_train_tf)[:,1]\n",
        "y_valid_preds = model.predict_proba(X_valid_tf)[:,1]\n",
        "def calc_specificity(y_actual, y_pred, thresh):\n",
        "    return sum((y_pred < thresh) & (y_actual == 0)) /sum(y_actual ==0)\n",
        "\n",
        "def calc_prevalence(y_actual):\n",
        "    return sum((y_actual == 1)) /len(y_actual)\n",
        "\n",
        "fpr_train, tpr_train, thresholds_train = roc_curve(y_train, y_train_preds)\n",
        "fpr_valid, tpr_valid, thresholds_valid = roc_curve(y_valid, y_valid_preds)\n",
        "thresh = 0.5\n",
        "auc_train = roc_auc_score(y_train, y_train_preds)\n",
        "auc_valid = roc_auc_score(y_valid, y_valid_preds)\n",
        "\n",
        "print('Train Prevalence:%.3f'%calc_prevalence(y_train))\n",
        "print('Valid Prevalence:%.3f'%calc_prevalence(y_valid))\n",
        "\n",
        "print('Train AUC:%.3f'%auc_train)\n",
        "print('Valid AUC:%.3f'%auc_valid)\n",
        "\n",
        "print('Train Accuracy:%.3f'%accuracy_score(y_train, y_train_preds >= thresh))\n",
        "print('Valid Accuracy:%.3f'%accuracy_score(y_valid, y_valid_preds >= thresh))\n",
        "\n",
        "print('Train Recall:%.3f'%recall_score(y_train, y_train_preds>= thresh))\n",
        "print('Valid Recall:%.3f'%recall_score(y_valid, y_valid_preds>= thresh))\n",
        "\n",
        "print('Train Precision:%.3f'%precision_score(y_train, y_train_preds>= thresh))\n",
        "print('Valid Precision:%.3f'%precision_score(y_valid, y_valid_preds>= thresh))\n",
        "\n",
        "print('Train Specificity:%.3f'%calc_specificity(y_train, y_train_preds, thresh))\n",
        "print('Valid Specificity:%.3f'%calc_specificity(y_valid, y_valid_preds, thresh))\n",
        "\n",
        "fig = plt.figure()\n",
        "plt.plot(fpr_train, tpr_train,'r-', label = 'Train AUC: %.2f'%auc_train)\n",
        "plt.plot(fpr_valid, tpr_valid,'g-',label = 'Valid AUC: %.2f'%auc_valid)\n",
        "plt.xlabel('False Positive Rate')\n",
        "plt.ylabel('True Positive Rate')\n",
        "plt.legend()\n",
        "plt.xticks()\n",
        "plt.yticks()\n",
        "plt.show()\n"
      ],
      "execution_count": null,
      "outputs": [
        {
          "output_type": "stream",
          "name": "stdout",
          "text": [
            "Train Prevalence:0.500\n",
            "Valid Prevalence:0.057\n",
            "Train AUC:0.756\n",
            "Valid AUC:0.705\n",
            "Train Accuracy:0.688\n",
            "Valid Accuracy:0.710\n",
            "Train Recall:0.625\n",
            "Valid Recall:0.593\n",
            "Train Precision:0.716\n",
            "Valid Precision:0.112\n",
            "Train Specificity:0.751\n",
            "Valid Specificity:0.717\n"
          ]
        },
        {
          "output_type": "display_data",
          "data": {
            "image/png": "[encoded data removed]",
            "text/plain": [
              "<Figure size 432x288 with 1 Axes>"
            ]
          },
          "metadata": {
            "needs_background": "light"
          }
        }
      ]
    },
    {
      "cell_type": "code",
      "metadata": {
        "colab": {
          "base_uri": "https://localhost:8080/"
        },
        "id": "tnKDQ1Y3p2re",
        "outputId": "b27d0911-089a-41ff-e216-5da9df438ef3"
      },
      "source": [
        "feature_importances = pd.DataFrame(clf.coef_[0],index = vect.get_feature_names(),columns=['importance']).sort_values('importance',ascending=False)\n",
        "more_stop_words = ['the','was','with','a','on','in','for','name','is','patient','s','he','at','as','or','one','she','his','her','am','were','you','pt','pm','by','be','had','your','this','date','from','there','an','that','p','are','have','has','h','but','o','namepattern','which','every','also','should','if','it','been','who','during', 'x']\n",
        "\n",
        "vect = CountVectorizer(lowercase = True, max_features = 4000, tokenizer = tokenizer_two,stop_words = more_stop_words)\n",
        "\n",
        "vect.fit(df_train.TEXT.values)\n",
        "X_train_tf = vect.transform(df_train.TEXT.values)\n",
        "X_valid_tf = vect.transform(df_valid.TEXT.values)\n",
        "y_train = df_train.OUTPUT_LABEL\n",
        "y_valid = df_valid.OUTPUT_LABEL"
      ],
      "execution_count": null,
      "outputs": [
        {
          "output_type": "stream",
          "name": "stderr",
          "text": [
            "/usr/local/lib/python3.7/dist-packages/sklearn/feature_extraction/text.py:507: UserWarning: The parameter 'token_pattern' will not be used since 'tokenizer' is not None'\n",
            "  warnings.warn(\"The parameter 'token_pattern' will not be used\"\n"
          ]
        }
      ]
    },
    {
      "cell_type": "code",
      "metadata": {
        "colab": {
          "base_uri": "https://localhost:8080/"
        },
        "id": "J9p4kc7tqAu1",
        "outputId": "575168a3-84fd-4b70-e772-9dffc8c803a1"
      },
      "source": [
        "Cs = [0.00002, 0.00005, 0.0002, 0.0004, 0.002, 0.006]\n",
        "train_aucs = np.zeros(len(Cs))\n",
        "valid_aucs = np.zeros(len(Cs))\n",
        "for ii in range(len(Cs)):\n",
        "    C = Cs[ii]\n",
        "    print('C:', C)\n",
        "    clf=LogisticRegression(C = C, penalty = 'l2', random_state = 42)\n",
        "    clf.fit(X_train_tf, y_train)\n",
        "    model = clf\n",
        "    y_train_preds = model.predict_proba(X_train_tf)[:,1]\n",
        "    y_valid_preds = model.predict_proba(X_valid_tf)[:,1]\n",
        "    auc_train = roc_auc_score(y_train, y_train_preds)\n",
        "    auc_valid = roc_auc_score(y_valid, y_valid_preds)\n",
        "    print('Train AUC:%.4f'%auc_train)\n",
        "    print('Valid AUC:%.4f'%auc_valid)\n",
        "    train_aucs[ii] = auc_train\n",
        "    valid_aucs[ii] = auc_valid"
      ],
      "execution_count": null,
      "outputs": [
        {
          "output_type": "stream",
          "name": "stdout",
          "text": [
            "C: 2e-05\n",
            "Train AUC:0.7022\n",
            "Valid AUC:0.6822\n",
            "C: 5e-05\n",
            "Train AUC:0.7301\n",
            "Valid AUC:0.6971\n",
            "C: 0.0002\n",
            "Train AUC:0.7815\n",
            "Valid AUC:0.7157\n",
            "C: 0.0004\n"
          ]
        },
        {
          "output_type": "stream",
          "name": "stderr",
          "text": [
            "/usr/local/lib/python3.7/dist-packages/sklearn/linear_model/_logistic.py:940: ConvergenceWarning: lbfgs failed to converge (status=1):\n",
            "STOP: TOTAL NO. of ITERATIONS REACHED LIMIT.\n",
            "\n",
            "Increase the number of iterations (max_iter) or scale the data as shown in:\n",
            "    https://scikit-learn.org/stable/modules/preprocessing.html\n",
            "Please also refer to the documentation for alternative solver options:\n",
            "    https://scikit-learn.org/stable/modules/linear_model.html#logistic-regression\n",
            "  extra_warning_msg=_LOGISTIC_SOLVER_CONVERGENCE_MSG)\n"
          ]
        },
        {
          "output_type": "stream",
          "name": "stdout",
          "text": [
            "Train AUC:0.8128\n",
            "Valid AUC:0.7214\n",
            "C: 0.002\n"
          ]
        },
        {
          "output_type": "stream",
          "name": "stderr",
          "text": [
            "/usr/local/lib/python3.7/dist-packages/sklearn/linear_model/_logistic.py:940: ConvergenceWarning: lbfgs failed to converge (status=1):\n",
            "STOP: TOTAL NO. of ITERATIONS REACHED LIMIT.\n",
            "\n",
            "Increase the number of iterations (max_iter) or scale the data as shown in:\n",
            "    https://scikit-learn.org/stable/modules/preprocessing.html\n",
            "Please also refer to the documentation for alternative solver options:\n",
            "    https://scikit-learn.org/stable/modules/linear_model.html#logistic-regression\n",
            "  extra_warning_msg=_LOGISTIC_SOLVER_CONVERGENCE_MSG)\n"
          ]
        },
        {
          "output_type": "stream",
          "name": "stdout",
          "text": [
            "Train AUC:0.8951\n",
            "Valid AUC:0.7141\n",
            "C: 0.006\n",
            "Train AUC:0.9460\n",
            "Valid AUC:0.6956\n"
          ]
        },
        {
          "output_type": "stream",
          "name": "stderr",
          "text": [
            "/usr/local/lib/python3.7/dist-packages/sklearn/linear_model/_logistic.py:940: ConvergenceWarning: lbfgs failed to converge (status=1):\n",
            "STOP: TOTAL NO. of ITERATIONS REACHED LIMIT.\n",
            "\n",
            "Increase the number of iterations (max_iter) or scale the data as shown in:\n",
            "    https://scikit-learn.org/stable/modules/preprocessing.html\n",
            "Please also refer to the documentation for alternative solver options:\n",
            "    https://scikit-learn.org/stable/modules/linear_model.html#logistic-regression\n",
            "  extra_warning_msg=_LOGISTIC_SOLVER_CONVERGENCE_MSG)\n"
          ]
        }
      ]
    },
    {
      "cell_type": "code",
      "metadata": {
        "colab": {
          "base_uri": "https://localhost:8080/",
          "height": 279
        },
        "id": "0cqgKTSEqIVh",
        "outputId": "2d0fc71c-61e4-4056-f326-410d619fb968"
      },
      "source": [
        "fig = plt.figure()\n",
        "plt.plot(Cs, train_aucs,'ro-', label ='Train')\n",
        "plt.plot(Cs, valid_aucs, 'bo-', label='Valid')\n",
        "plt.legend()\n",
        "plt.xlabel('Logistic Regression - C')\n",
        "plt.ylabel('AUC')\n",
        "plt.show()"
      ],
      "execution_count": null,
      "outputs": [
        {
          "output_type": "display_data",
          "data": {
            "image/png": "[encoded data removed]",
            "text/plain": [
              "<Figure size 432x288 with 1 Axes>"
            ]
          },
          "metadata": {
            "needs_background": "light"
          }
        }
      ]
    },
    {
      "cell_type": "code",
      "metadata": {
        "id": "Z-t0xlSjuodZ"
      },
      "source": [
        ""
      ],
      "execution_count": null,
      "outputs": []
    }
  ]
}